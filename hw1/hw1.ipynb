{
  "nbformat": 4,
  "nbformat_minor": 0,
  "metadata": {
    "colab": {
      "name": "hw1.ipynb",
      "provenance": [],
      "collapsed_sections": [],
      "authorship_tag": "ABX9TyN3NY9L1AcUhu0ajxJBzlHY",
      "include_colab_link": true
    },
    "kernelspec": {
      "name": "python3",
      "display_name": "Python 3"
    }
  },
  "cells": [
    {
      "cell_type": "markdown",
      "metadata": {
        "id": "view-in-github",
        "colab_type": "text"
      },
      "source": [
        "<a href=\"https://colab.research.google.com/github/l2onnie/cop4630/blob/master/hw1/hw1.ipynb\" target=\"_parent\"><img src=\"https://colab.research.google.com/assets/colab-badge.svg\" alt=\"Open In Colab\"/></a>"
      ]
    },
    {
      "cell_type": "markdown",
      "metadata": {
        "id": "0rJ0IE34DNDB",
        "colab_type": "text"
      },
      "source": [
        "# Homework 1 - Matrix Multiplication\n",
        "\n",
        "**Rule** - number of columns of the first matrix needs to be the same as number of rows of second matrix. Otherwise, matrix multiplication is not possible."
      ]
    },
    {
      "cell_type": "code",
      "metadata": {
        "id": "4awk96vJDHXa",
        "colab_type": "code",
        "outputId": "fb4f07b1-25b0-488a-bc19-80cda6f4f621",
        "colab": {
          "base_uri": "https://localhost:8080/",
          "height": 102
        }
      },
      "source": [
        "import numpy as np\n",
        "\n",
        "def multiply_matrices(array):\n",
        "  base = array[0]\n",
        "  for i in range(len(array)-1):\n",
        "    try: \n",
        "      base = base.dot(array[i+1])\n",
        "    except:\n",
        "      base = 'Matrix multiplication is not possible.'\n",
        "  return base\n",
        "\n",
        "# Working Test Case\n",
        "m1 = np.array([[1,2],\n",
        "               [1,2]])\n",
        "m2 = np.array([[1,2,3,4],\n",
        "               [1,2,3,4]])\n",
        "\n",
        "list1 = [m1,m2]\n",
        "print(\"Working Test Case\")\n",
        "print(multiply_matrices(list1))\n",
        "\n",
        "# Invalid Test Case\n",
        "m3 = np.array([[1,2,3],\n",
        "               [1,2,3]])\n",
        "m4 = np.array([[1,2],\n",
        "               [1,2]])\n",
        "list2 = [m3,m4]\n",
        "print(\"Invalid Test Case\")\n",
        "print(multiply_matrices(list2))\n"
      ],
      "execution_count": 23,
      "outputs": [
        {
          "output_type": "stream",
          "text": [
            "Working Test Case\n",
            "[[ 3  6  9 12]\n",
            " [ 3  6  9 12]]\n",
            "Invalid Test Case\n",
            "Matrix multiplication is not possible.\n"
          ],
          "name": "stdout"
        }
      ]
    }
  ]
}