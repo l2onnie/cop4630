{
  "nbformat": 4,
  "nbformat_minor": 0,
  "metadata": {
    "colab": {
      "name": "hw1.ipynb",
      "provenance": [],
      "collapsed_sections": [],
      "authorship_tag": "ABX9TyMUKiO7w64vgYMnxrvj8Gpx",
      "include_colab_link": true
    },
    "kernelspec": {
      "name": "python3",
      "display_name": "Python 3"
    }
  },
  "cells": [
    {
      "cell_type": "markdown",
      "metadata": {
        "id": "view-in-github",
        "colab_type": "text"
      },
      "source": [
        "<a href=\"https://colab.research.google.com/github/l2onnie/cop4630/blob/master/hw1/hw1.ipynb\" target=\"_parent\"><img src=\"https://colab.research.google.com/assets/colab-badge.svg\" alt=\"Open In Colab\"/></a>"
      ]
    },
    {
      "cell_type": "markdown",
      "metadata": {
        "id": "0rJ0IE34DNDB",
        "colab_type": "text"
      },
      "source": [
        "# Hello\n",
        "Link - https://colab.research.google.com/drive/12yEspB-TkITGe2z7VmO9ng5WxmHXT0w4\n",
        "\n",
        "Rule - number of column of first matrix needs to be the same as number of rows of second matrix"
      ]
    },
    {
      "cell_type": "markdown",
      "metadata": {
        "id": "ngTEvrrJMF57",
        "colab_type": "text"
      },
      "source": [
        "The result will be first row x second column"
      ]
    },
    {
      "cell_type": "markdown",
      "metadata": {
        "id": "dNcf1UHWMJyB",
        "colab_type": "text"
      },
      "source": [
        "multiply each row by column"
      ]
    },
    {
      "cell_type": "code",
      "metadata": {
        "id": "4awk96vJDHXa",
        "colab_type": "code",
        "outputId": "35f536bc-627b-4122-f111-7b7e4fbaa6ef",
        "colab": {
          "base_uri": "https://localhost:8080/",
          "height": 85
        }
      },
      "source": [
        "import numpy as np\n",
        "\n",
        "def multiply_matrices(array):\n",
        "  print(\"Hello World!\")\n",
        "  print(array)\n",
        "  print(array[0])\n",
        "  print(array[1])\n",
        "  return ;\n",
        "arr = ([1,2,3],[2,3,4])\n",
        "\n",
        "multiply_matrices(arr);\n"
      ],
      "execution_count": 0,
      "outputs": [
        {
          "output_type": "stream",
          "text": [
            "Hello World!\n",
            "([1, 2, 3], [2, 3, 4])\n",
            "[1, 2, 3]\n",
            "[2, 3, 4]\n"
          ],
          "name": "stdout"
        }
      ]
    }
  ]
}