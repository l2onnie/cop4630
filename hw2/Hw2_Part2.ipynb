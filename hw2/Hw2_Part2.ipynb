{
  "nbformat": 4,
  "nbformat_minor": 0,
  "metadata": {
    "colab": {
      "name": "Hw2_Part2.ipynb",
      "provenance": [],
      "collapsed_sections": [],
      "authorship_tag": "ABX9TyMgCsiQEqcoJnX70CgwJeYj",
      "include_colab_link": true
    },
    "kernelspec": {
      "name": "python3",
      "display_name": "Python 3"
    }
  },
  "cells": [
    {
      "cell_type": "markdown",
      "metadata": {
        "id": "view-in-github",
        "colab_type": "text"
      },
      "source": [
        "<a href=\"https://colab.research.google.com/github/l2onnie/cop4630/blob/master/hw2/Hw2_Part2.ipynb\" target=\"_parent\"><img src=\"https://colab.research.google.com/assets/colab-badge.svg\" alt=\"Open In Colab\"/></a>"
      ]
    },
    {
      "cell_type": "code",
      "metadata": {
        "id": "N_ec-EpDxUFm",
        "colab_type": "code",
        "colab": {}
      },
      "source": [
        "#Homework 2 Part 2"
      ],
      "execution_count": 0,
      "outputs": []
    },
    {
      "cell_type": "code",
      "metadata": {
        "id": "THoTFfncYtuM",
        "colab_type": "code",
        "colab": {}
      },
      "source": [
        "#import libraries\n",
        "import numpy as np\n",
        "%matplotlib inline\n",
        "import matplotlib as mpl\n",
        "import matplotlib.pyplot as plt\n",
        "mpl.rc('axes', labelsize=14)\n",
        "mpl.rc('xtick', labelsize=12)\n",
        "mpl.rc('ytick', labelsize=12)"
      ],
      "execution_count": 0,
      "outputs": []
    },
    {
      "cell_type": "code",
      "metadata": {
        "id": "tk46drdWY2vL",
        "colab_type": "code",
        "colab": {}
      },
      "source": [
        "# generate m random pairs (x, y)\n",
        "\n",
        "m = 100\n",
        "X = 2 * np.random.rand(m, 1)\n",
        "y = 4 + 3 * X + np.random.rand(m, 1)"
      ],
      "execution_count": 0,
      "outputs": []
    },
    {
      "cell_type": "code",
      "metadata": {
        "id": "A00JMPztnnss",
        "colab_type": "code",
        "outputId": "79f72f68-f1ab-49fe-d698-c081ddf9cc12",
        "colab": {
          "base_uri": "https://localhost:8080/",
          "height": 290
        }
      },
      "source": [
        "plt.plot(X, y, \"b.\")\n",
        "plt.xlabel(\"$x_1$\", fontsize=18)\n",
        "plt.ylabel(\"$y$\", rotation=0, fontsize=18)\n",
        "plt.axis([0, 2, 0, 15])\n",
        "plt.show()"
      ],
      "execution_count": 0,
      "outputs": [
        {
          "output_type": "display_data",
          "data": {
            "image/png": "[encoded data removed]",
            "text/plain": [
              "<Figure size 432x288 with 1 Axes>"
            ]
          },
          "metadata": {
            "tags": []
          }
        }
      ]
    },
    {
      "cell_type": "code",
      "metadata": {
        "id": "hPl4oIC4bBsa",
        "colab_type": "code",
        "colab": {}
      },
      "source": [
        "#Bias and weights\n",
        "\n",
        "# add x0 = 1 \n",
        "X_b = np.column_stack([np.ones((m, 1)), X])\n",
        "\n",
        "# create array with x1=0 and x1=2\n",
        "X_new = np.array([[0], [2]])\n",
        "# add x0 = 1 to each instance\n",
        "X_new_b = np.column_stack([np.ones((2, 1)), X_new])"
      ],
      "execution_count": 0,
      "outputs": []
    },
    {
      "cell_type": "code",
      "metadata": {
        "id": "61qrgmT92wSe",
        "colab_type": "code",
        "colab": {}
      },
      "source": [
        "\n",
        "# number of epochs\n",
        "epochs = 20\n",
        "# learning rate\n",
        "lr = 0.01\n",
        "# fix initial random weight for gradient descent (batch gradient descent)\n",
        "np.random.seed(42)\n",
        "initial_weight = np.random.randn(2, 1)"
      ],
      "execution_count": 0,
      "outputs": []
    },
    {
      "cell_type": "code",
      "metadata": {
        "id": "8_ZjHrC8bo3G",
        "colab_type": "code",
        "outputId": "99973e41-129a-434f-bc2b-aef19a518011",
        "colab": {
          "base_uri": "https://localhost:8080/",
          "height": 51
        }
      },
      "source": [
        "weight = initial_weight\n",
        "\n",
        "for epoch in range(epochs):\n",
        "    gradient = 1/m * X_b.T.dot(X_b.dot(weight) - y)\n",
        "    weight = weight - lr * gradient\n",
        "y_predict = X_new_b.dot(weight)\n",
        "y_predict"
      ],
      "execution_count": 0,
      "outputs": [
        {
          "output_type": "execute_result",
          "data": {
            "text/plain": [
              "array([[1.6452141 ],\n",
              "       [3.84471108]])"
            ]
          },
          "metadata": {
            "tags": []
          },
          "execution_count": 31
        }
      ]
    },
    {
      "cell_type": "code",
      "metadata": {
        "id": "1N2jaBbAcK5e",
        "colab_type": "code",
        "colab": {}
      },
      "source": [
        "def plot_gradient_descent(weight, lr, weight_path=None):\n",
        "    # plot training data\n",
        "    plt.plot(X, y, \"b.\")\n",
        "    # plot initial prediction\n",
        "    y_predict = X_new_b.dot(weight)\n",
        "    plt.plot(X_new, y_predict, \"r--\")\n",
        "    \n",
        "    if weight_path is not None:\n",
        "      weight_path.append(weight)\n",
        "\n",
        "    for epoch in range(epochs):\n",
        "        gradient = 1 / m * X_b.T.dot(X_b.dot(weight) - y)\n",
        "        weight = weight - lr * gradient\n",
        "        if weight_path is not None:\n",
        "            weight_path.append(weight)\n",
        "        # plot prediction after weight update\n",
        "        y_predict = X_new_b.dot(weight)\n",
        "        plt.plot(X_new, y_predict, \"b-\")\n",
        "        \n",
        "    plt.xlabel(\"$x_1$\", fontsize=18)\n",
        "    plt.axis([0, 2, 0, 15])\n",
        "    plt.title(\"lr {}\".format(lr), fontsize=16)"
      ],
      "execution_count": 0,
      "outputs": []
    },
    {
      "cell_type": "code",
      "metadata": {
        "id": "UIVNI1vwcVAj",
        "colab_type": "code",
        "colab": {}
      },
      "source": [
        "weight = initial_weight\n",
        "weight2 = initial_weight\n",
        "weight_path_mgd = []\n",
        "batch_size = 4\n",
        "\n",
        "weight_path_mgd.append(weight)\n",
        "for epoch in range(epochs):\n",
        "    shuffled_indices = np.random.permutation(m)\n",
        "    X_b_shuffled = X_b[shuffled_indices]\n",
        "    y_shuffled = y[shuffled_indices]\n",
        "    for i in range(0, m, batch_size):\n",
        "        xi = X_b_shuffled[i:i+batch_size]\n",
        "        yi = y_shuffled[i:i+batch_size]\n",
        "        gradient = 1 / batch_size * xi.T.dot(xi.dot(weight) - yi)\n",
        "        weight = weight - lr * gradient\n",
        "        weight2 = weight2 - lr * gradient\n",
        "        weight_path_mgd.append(weight)\n",
        "        weight_path_mgd.append(weight2)\n",
        "weight_path_mgd[-1]\n",
        "weight_path_mgd = np.array(weight_path_mgd)"
      ],
      "execution_count": 0,
      "outputs": []
    },
    {
      "cell_type": "code",
      "metadata": {
        "id": "197lE8UnGuSa",
        "colab_type": "code",
        "outputId": "a1f62112-1dbd-4093-c5d2-b3e6b0f22a21",
        "colab": {
          "base_uri": "https://localhost:8080/",
          "height": 731
        }
      },
      "source": [
        "plt.figure(figsize=(12,12))\n",
        "plt.plot(weight_path_mgd[:, 0], weight_path_mgd[:, 1], \"g-s\", linewidth=2, label=\"mini-batch\")\n",
        "plt.legend(loc=\"upper left\", fontsize=16)\n",
        "plt.xlabel(r\"$w_0$\", fontsize=20)\n",
        "plt.ylabel(r\"$w_1$   \", fontsize=20, rotation=0)\n",
        "plt.axis([-1, 5, -1, 4])\n",
        "plt.show()"
      ],
      "execution_count": 0,
      "outputs": [
        {
          "output_type": "display_data",
          "data": {
            "image/png": "[encoded data removed]",
            "text/plain": [
              "<Figure size 864x864 with 1 Axes>"
            ]
          },
          "metadata": {
            "tags": []
          }
        }
      ]
    },
    {
      "cell_type": "markdown",
      "metadata": {
        "id": "IfraJknRJzz4",
        "colab_type": "text"
      },
      "source": [
        "Sources:\n",
        "\n",
        "https://github.com/schneider128k/machine_learning_course/blob/master/linear_regression_gradient_descent.ipynb"
      ]
    }
  ]
}