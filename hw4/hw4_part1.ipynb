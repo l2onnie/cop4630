{
  "nbformat": 4,
  "nbformat_minor": 0,
  "metadata": {
    "colab": {
      "name": "hw4_part1.ipynb",
      "provenance": [],
      "collapsed_sections": [],
      "authorship_tag": "ABX9TyNqwiOxZDzOYSn94L47xBfU",
      "include_colab_link": true
    },
    "kernelspec": {
      "name": "python3",
      "display_name": "Python 3"
    }
  },
  "cells": [
    {
      "cell_type": "markdown",
      "metadata": {
        "id": "view-in-github",
        "colab_type": "text"
      },
      "source": [
        "<a href=\"https://colab.research.google.com/github/l2onnie/cop4630/blob/master/hw4/hw4_part1.ipynb\" target=\"_parent\"><img src=\"https://colab.research.google.com/assets/colab-badge.svg\" alt=\"Open In Colab\"/></a>"
      ]
    },
    {
      "cell_type": "markdown",
      "metadata": {
        "id": "OHrrkmiYWt1T",
        "colab_type": "text"
      },
      "source": [
        "# Problem 1\n",
        "Using only numpy, implement the function conv2d. It takes as input input_mat and kernel_mat and outputs output_mat. All variables are square matrices. It should compute the convolution of input_mat with the kernel kernel_mat using valid padding."
      ]
    },
    {
      "cell_type": "code",
      "metadata": {
        "id": "AC8uwaR-GS1e",
        "colab_type": "code",
        "colab": {}
      },
      "source": [
        "import numpy as np\n",
        "\n",
        "def conv2d(input_mat, kernel_mat):\n",
        "  #Check for valid inputs\n",
        "  if(kernel_mat.shape[0] > input_mat.shape[0]):\n",
        "    return []\n",
        "    raise Exception('Error: Kernel matrix is larger than input matrix')\n",
        "  if(kernel_mat.shape[0] != kernel_mat.shape[1]):\n",
        "    raise Exception('Error:Kernel is not a square matrix')  \n",
        "  if(input_mat.shape[0] != input_mat.shape[1]):\n",
        "    raise Exception('Error:Input is not a square matrix') \n",
        "\n",
        "  # size\n",
        "  s = np.shape(input_mat)[0] - np.shape(kernel_mat)[0]+1\n",
        "  k = kernel_mat.shape[0]    \n",
        "\n",
        "  # output matrix\n",
        "  output_mat = np.zeros((s,s))\n",
        "\n",
        "  # Outerloop\n",
        "  for a in range(s):\n",
        "    for b in range(s):\n",
        "      # InnerLoop\n",
        "      for c in range(k):\n",
        "        for d in range(k):\n",
        "          output_mat[a][b] += input_mat[a+c][b+d] * kernel_mat[c][d]\n",
        "  \n",
        "  return output_mat\n",
        "  "
      ],
      "execution_count": 0,
      "outputs": []
    },
    {
      "cell_type": "markdown",
      "metadata": {
        "id": "xnQko6dggc_Y",
        "colab_type": "text"
      },
      "source": [
        "# Provided Test Cases for Problem 1"
      ]
    },
    {
      "cell_type": "code",
      "metadata": {
        "id": "r2MxEjAvgkX4",
        "colab_type": "code",
        "outputId": "3917491c-a96e-4499-d2f1-953b6e4c7c89",
        "colab": {
          "base_uri": "https://localhost:8080/",
          "height": 374
        }
      },
      "source": [
        "from scipy import signal\n",
        "import numpy as np\n",
        "\n",
        "input_mat = []\n",
        "kernel_mat = []\n",
        "expected_mat = []\n",
        "\n",
        "# test case 1\n",
        "input_mat.append(np.array([[1, 2, 1, 2],\n",
        "                      [2, 1, 2, 1],\n",
        "                      [1, 2, 1, 2],\n",
        "                      [2, 1, 2, 1]]))\n",
        "\n",
        "kernel_mat.append(np.array([[1, 0],\n",
        "                       [0, 1]]))\n",
        "\n",
        "expected_mat.append(np.array([[2, 4, 2],\n",
        "                                [4, 2, 4],\n",
        "                                [2, 4, 2]]))\n",
        "\n",
        "# test case 2\n",
        "input_mat.append(np.array([[1, 0, 0, 0],\n",
        "                      [0, 1, 0, 0],\n",
        "                      [0, 0, 1, 0],\n",
        "                      [0, 0, 0, 1]]))\n",
        "kernel_mat.append(np.array([[1, 0], [0, 1]]))\n",
        "expected_mat.append(np.array([[2, 0, 0], [0, 2, 0], [0, 0, 2]]))\n",
        "\n",
        "\n",
        "# test case 3\n",
        "input_mat.append(np.array([[1, 0, 0, 0],\n",
        "                      [0, 1, 0, 0],\n",
        "                      [0, 0, 1, 0],\n",
        "                      [0, 0, 0, 1]]))\n",
        "kernel_mat.append(np.array([[1, -1],\n",
        "                       [-1, 0]]))\n",
        "\n",
        "expected_mat.append(np.array([[ 1, -1,  0], [-1,  1, -1],[ 0, -1,  1]]))\n",
        "\n",
        "\n",
        "# test case 4\n",
        "input_mat.append(np.array([[1, 0, 0, 0],\n",
        "                      [0, 1, 0, 0],\n",
        "                      [0, 0, 1, 0],\n",
        "                      [0, 0, 0, 1]]))\n",
        "kernel_mat.append(np.array([[1, 0, 0, 0],\n",
        "                      [0, 1, 0, 0],\n",
        "                      [0, 0, 1, 0],\n",
        "                      [0, 0, 0, 1]]))\n",
        "\n",
        "expected_mat.append(np.array([[4]]))\n",
        "\n",
        "\n",
        "# test case 5 - should either through an error, or return empty matrix\n",
        "input_mat.append(np.array([[1, -1],\n",
        "                       [-1, 0]]))\n",
        "kernel_mat.append(np.array([[1, 0, 0, 0],\n",
        "                      [0, 1, 0, 0],\n",
        "                      [0, 0, 1, 0],\n",
        "                      [0, 0, 0, 1]]))\n",
        "\n",
        "expected_mat.append([])\n",
        "\n",
        "\n",
        "\n",
        "for i in range(len(input_mat)):\n",
        "  # uncomment line for student code testing\n",
        "  output_mat = conv2d(input_mat[i], kernel_mat[i])\n",
        "\n",
        "  # uncomment lines below (and comment line above) for generating test cases.\n",
        "  #if input_mat[i].shape[0] < kernel_mat[i].shape[0]:\n",
        "  #  output_mat = []\n",
        "  #else:\n",
        "  #  output_mat = signal.convolve2d(input_mat[i], kernel_mat[i], mode='valid')\n",
        "\n",
        "  print(output_mat)\n",
        "  if np.array_equal(output_mat, expected_mat[i]):\n",
        "    print(\"Correct output!\\n\")\n",
        "  else:\n",
        "    print(\"Incorrect output!\\n\")"
      ],
      "execution_count": 12,
      "outputs": [
        {
          "output_type": "stream",
          "text": [
            "[[2. 4. 2.]\n",
            " [4. 2. 4.]\n",
            " [2. 4. 2.]]\n",
            "Correct output!\n",
            "\n",
            "[[2. 0. 0.]\n",
            " [0. 2. 0.]\n",
            " [0. 0. 2.]]\n",
            "Correct output!\n",
            "\n",
            "[[ 1. -1.  0.]\n",
            " [-1.  1. -1.]\n",
            " [ 0. -1.  1.]]\n",
            "Correct output!\n",
            "\n",
            "[[4.]]\n",
            "Correct output!\n",
            "\n",
            "[]\n",
            "Correct output!\n",
            "\n"
          ],
          "name": "stdout"
        }
      ]
    }
  ]
}