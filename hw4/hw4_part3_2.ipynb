{
  "nbformat": 4,
  "nbformat_minor": 0,
  "metadata": {
    "colab": {
      "name": "hw4_part3.2.ipynb",
      "provenance": [],
      "collapsed_sections": [],
      "authorship_tag": "ABX9TyNuMtj01495YFH95ngi3T7+",
      "include_colab_link": true
    },
    "kernelspec": {
      "name": "python3",
      "display_name": "Python 3"
    },
    "accelerator": "GPU"
  },
  "cells": [
    {
      "cell_type": "markdown",
      "metadata": {
        "id": "view-in-github",
        "colab_type": "text"
      },
      "source": [
        "<a href=\"https://colab.research.google.com/github/l2onnie/cop4630/blob/master/hw4/hw4_part3_2.ipynb\" target=\"_parent\"><img src=\"https://colab.research.google.com/assets/colab-badge.svg\" alt=\"Open In Colab\"/></a>"
      ]
    },
    {
      "cell_type": "markdown",
      "metadata": {
        "id": "qXfKMAzrNjFz",
        "colab_type": "text"
      },
      "source": [
        "# Problem 3 Part 2"
      ]
    },
    {
      "cell_type": "markdown",
      "metadata": {
        "id": "i60PsT92NlQ2",
        "colab_type": "text"
      },
      "source": [
        "## Fine-tuning VGG16\n",
        "This is based on section 5.3 Using a pretrained convnet of the book Deep learning with Python by Francois Chollet. I have made several changes to the code. I use the data that is already provided by Google. I don't download the data from Kaggle as in the deep learning book."
      ]
    },
    {
      "cell_type": "markdown",
      "metadata": {
        "id": "tUrKWOhTNquX",
        "colab_type": "text"
      },
      "source": [
        "## Feature extraction\n",
        "Feature extraction consists of using the representations learned by a previous network to extract interesting features from new samples. These features are then run through a new classifier, which is trained from scratch.\n",
        "\n",
        "We will use here the convolutional base of the VGG16 model to extract the features. We will feed these features to a densely connected classifier with dropout. We will fine-tune some layers."
      ]
    },
    {
      "cell_type": "markdown",
      "metadata": {
        "id": "267dUHfHN1_K",
        "colab_type": "text"
      },
      "source": [
        "### Download the data\n",
        "Download the example data, a zip. of 2,000 JPG pictures of cats and dogs and extract it locally in /tmp."
      ]
    },
    {
      "cell_type": "code",
      "metadata": {
        "id": "XIeXH_qjN9NU",
        "colab_type": "code",
        "outputId": "c5f70a5c-c4c3-43aa-a80c-eec9d2b8eee2",
        "colab": {
          "base_uri": "https://localhost:8080/",
          "height": 204
        }
      },
      "source": [
        "!wget --no-check-certificate \\\n",
        "    https://storage.googleapis.com/mledu-datasets/cats_and_dogs_filtered.zip \\\n",
        "    -O /tmp/cats_and_dogs_filtered.zip"
      ],
      "execution_count": 1,
      "outputs": [
        {
          "output_type": "stream",
          "text": [
            "--2020-04-21 20:18:40--  https://storage.googleapis.com/mledu-datasets/cats_and_dogs_filtered.zip\n",
            "Resolving storage.googleapis.com (storage.googleapis.com)... 172.217.14.112, 2607:f8b0:4007:80e::2010\n",
            "Connecting to storage.googleapis.com (storage.googleapis.com)|172.217.14.112|:443... connected.\n",
            "HTTP request sent, awaiting response... 200 OK\n",
            "Length: 68606236 (65M) [application/zip]\n",
            "Saving to: ‘/tmp/cats_and_dogs_filtered.zip’\n",
            "\n",
            "/tmp/cats_and_dogs_ 100%[===================>]  65.43M   245MB/s    in 0.3s    \n",
            "\n",
            "2020-04-21 20:18:41 (245 MB/s) - ‘/tmp/cats_and_dogs_filtered.zip’ saved [68606236/68606236]\n",
            "\n"
          ],
          "name": "stdout"
        }
      ]
    },
    {
      "cell_type": "code",
      "metadata": {
        "id": "PDwvDWcaOBt9",
        "colab_type": "code",
        "colab": {}
      },
      "source": [
        "import os\n",
        "import zipfile\n",
        "\n",
        "local_zip = '/tmp/cats_and_dogs_filtered.zip'\n",
        "zip_ref = zipfile.ZipFile(local_zip, 'r')\n",
        "zip_ref.extractall('/tmp')\n",
        "zip_ref.close()"
      ],
      "execution_count": 0,
      "outputs": []
    },
    {
      "cell_type": "markdown",
      "metadata": {
        "id": "1hfbanpmOPxI",
        "colab_type": "text"
      },
      "source": [
        "Note that the data provided by Google does not have a test set.\n",
        "\n"
      ]
    },
    {
      "cell_type": "code",
      "metadata": {
        "id": "iq77tqHxOL_B",
        "colab_type": "code",
        "colab": {}
      },
      "source": [
        "base_dir = '/tmp/cats_and_dogs_filtered'\n",
        "train_dir = os.path.join(base_dir, 'train')\n",
        "validation_dir = os.path.join(base_dir, 'validation')\n",
        "\n",
        "# Directory with our training cat pictures\n",
        "train_cats_dir = os.path.join(train_dir, 'cats')\n",
        "\n",
        "# Directory with our training dog pictures\n",
        "train_dogs_dir = os.path.join(train_dir, 'dogs')\n",
        "\n",
        "# Directory with our validation cat pictures\n",
        "validation_cats_dir = os.path.join(validation_dir, 'cats')\n",
        "\n",
        "# Directory with our validation dog pictures\n",
        "validation_dogs_dir = os.path.join(validation_dir, 'dogs')"
      ],
      "execution_count": 0,
      "outputs": []
    },
    {
      "cell_type": "markdown",
      "metadata": {
        "id": "uLlnMD5wOWFU",
        "colab_type": "text"
      },
      "source": [
        "# Build network with VGG16 convolution base and custom densely connected layers"
      ]
    },
    {
      "cell_type": "markdown",
      "metadata": {
        "id": "1E8zy_uOOYTA",
        "colab_type": "text"
      },
      "source": [
        "## Train the model end to end with frozen convolutional base"
      ]
    },
    {
      "cell_type": "code",
      "metadata": {
        "id": "qk2VCKFiOabC",
        "colab_type": "code",
        "colab": {
          "base_uri": "https://localhost:8080/",
          "height": 68
        },
        "outputId": "3cba633b-a8dd-4c99-edfc-3cda972b8de3"
      },
      "source": [
        "from keras.applications import Xception\n",
        "\n",
        "conv_base = Xception(\n",
        "    weights='imagenet', \n",
        "    include_top=False, \n",
        "    input_shape=(150, 150, 3))"
      ],
      "execution_count": 4,
      "outputs": [
        {
          "output_type": "stream",
          "text": [
            "Using TensorFlow backend.\n"
          ],
          "name": "stderr"
        },
        {
          "output_type": "stream",
          "text": [
            "Downloading data from https://github.com/fchollet/deep-learning-models/releases/download/v0.4/xception_weights_tf_dim_ordering_tf_kernels_notop.h5\n",
            "83689472/83683744 [==============================] - 2s 0us/step\n"
          ],
          "name": "stdout"
        }
      ]
    },
    {
      "cell_type": "markdown",
      "metadata": {
        "id": "flnu4m0IPW3F",
        "colab_type": "text"
      },
      "source": [
        "# Freeze the convolutional base"
      ]
    },
    {
      "cell_type": "code",
      "metadata": {
        "id": "KaJBx9wRPnVW",
        "colab_type": "code",
        "colab": {}
      },
      "source": [
        "conv_base.trainable = False"
      ],
      "execution_count": 0,
      "outputs": []
    },
    {
      "cell_type": "markdown",
      "metadata": {
        "id": "Z4ZVK2enPrUp",
        "colab_type": "text"
      },
      "source": [
        "## Concatenate the convolutional base and densely connected layers"
      ]
    },
    {
      "cell_type": "code",
      "metadata": {
        "id": "vkLipk4lPoXv",
        "colab_type": "code",
        "colab": {}
      },
      "source": [
        "from keras import layers\n",
        "from keras import models\n",
        "from keras import optimizers\n",
        "\n",
        "model = models.Sequential()\n",
        "model.add(conv_base)\n",
        "model.add(layers.Flatten())\n",
        "model.add(layers.Dense(256, activation='relu'))\n",
        "model.add(layers.Dense(256, activation='relu'))\n",
        "model.add(layers.Dense(256, activation='relu'))\n",
        "#model.add(layers.Dropout(0.1))\n",
        "model.add(layers.Dense(1, activation='sigmoid'))"
      ],
      "execution_count": 0,
      "outputs": []
    },
    {
      "cell_type": "code",
      "metadata": {
        "id": "PZkYLPRpP6_e",
        "colab_type": "code",
        "outputId": "6c5ff19c-6ed3-40d5-bde4-f65fe4eabbb7",
        "colab": {
          "base_uri": "https://localhost:8080/",
          "height": 357
        }
      },
      "source": [
        "model.summary()"
      ],
      "execution_count": 11,
      "outputs": [
        {
          "output_type": "stream",
          "text": [
            "Model: \"sequential_2\"\n",
            "_________________________________________________________________\n",
            "Layer (type)                 Output Shape              Param #   \n",
            "=================================================================\n",
            "xception (Model)             (None, 5, 5, 2048)        20861480  \n",
            "_________________________________________________________________\n",
            "flatten_2 (Flatten)          (None, 51200)             0         \n",
            "_________________________________________________________________\n",
            "dense_3 (Dense)              (None, 256)               13107456  \n",
            "_________________________________________________________________\n",
            "dense_4 (Dense)              (None, 256)               65792     \n",
            "_________________________________________________________________\n",
            "dense_5 (Dense)              (None, 256)               65792     \n",
            "_________________________________________________________________\n",
            "dense_6 (Dense)              (None, 1)                 257       \n",
            "=================================================================\n",
            "Total params: 34,100,777\n",
            "Trainable params: 13,239,297\n",
            "Non-trainable params: 20,861,480\n",
            "_________________________________________________________________\n"
          ],
          "name": "stdout"
        }
      ]
    },
    {
      "cell_type": "markdown",
      "metadata": {
        "id": "RXN81gEJQE4j",
        "colab_type": "text"
      },
      "source": [
        "## Train the model end to end with frozen convolutional base"
      ]
    },
    {
      "cell_type": "code",
      "metadata": {
        "id": "G95TIHMVQKxz",
        "colab_type": "code",
        "outputId": "512bcf50-3e4d-4cb4-b3be-670aa445f6fa",
        "colab": {
          "base_uri": "https://localhost:8080/",
          "height": 1000
        }
      },
      "source": [
        "from keras.preprocessing.image import ImageDataGenerator\n",
        "from keras import optimizers\n",
        "\n",
        "# data augmentation\n",
        "\n",
        "train_datagen = ImageDataGenerator(\n",
        "    rescale=1./255, \n",
        "    rotation_range=40,\n",
        "    width_shift_range=0.2,\n",
        "    height_shift_range=0.2,\n",
        "    shear_range=0.2,\n",
        "    zoom_range=0.2,\n",
        "    horizontal_flip=True,\n",
        "    fill_mode='nearest'\n",
        ")\n",
        "\n",
        "train_generator = train_datagen.flow_from_directory(\n",
        "    train_dir,\n",
        "    target_size=(150, 150),\n",
        "    batch_size=20,\n",
        "    class_mode='binary')\n",
        "\n",
        "validation_datagen = ImageDataGenerator(rescale=1./255)\n",
        "\n",
        "validation_generator = validation_datagen.flow_from_directory(\n",
        "    validation_dir,\n",
        "    target_size=(150, 150),\n",
        "    batch_size=20,\n",
        "    class_mode='binary')\n",
        "\n",
        "# compile model\n",
        "\n",
        "model.compile(\n",
        "    loss='binary_crossentropy', \n",
        "    optimizer=optimizers.RMSprop(lr=2e-5), \n",
        "    metrics=['acc'])\n",
        "\n",
        "# train\n",
        "\n",
        "history = model.fit_generator(\n",
        "    train_generator,\n",
        "    steps_per_epoch=100,\n",
        "    epochs=30,\n",
        "    validation_data=validation_generator,\n",
        "    validation_steps=50\n",
        ")"
      ],
      "execution_count": 12,
      "outputs": [
        {
          "output_type": "stream",
          "text": [
            "Found 2000 images belonging to 2 classes.\n",
            "Found 1000 images belonging to 2 classes.\n",
            "Epoch 1/30\n",
            "100/100 [==============================] - 29s 293ms/step - loss: 0.4495 - acc: 0.7870 - val_loss: 0.1531 - val_acc: 0.9600\n",
            "Epoch 2/30\n",
            "100/100 [==============================] - 20s 197ms/step - loss: 0.3742 - acc: 0.8220 - val_loss: 0.2411 - val_acc: 0.9660\n",
            "Epoch 3/30\n",
            "100/100 [==============================] - 20s 197ms/step - loss: 0.3642 - acc: 0.8445 - val_loss: 4.8465e-04 - val_acc: 0.9690\n",
            "Epoch 4/30\n",
            "100/100 [==============================] - 20s 198ms/step - loss: 0.3679 - acc: 0.8365 - val_loss: 0.4052 - val_acc: 0.9700\n",
            "Epoch 5/30\n",
            "100/100 [==============================] - 20s 197ms/step - loss: 0.3306 - acc: 0.8465 - val_loss: 0.3644 - val_acc: 0.9670\n",
            "Epoch 6/30\n",
            "100/100 [==============================] - 20s 196ms/step - loss: 0.3505 - acc: 0.8440 - val_loss: 0.0017 - val_acc: 0.9700\n",
            "Epoch 7/30\n",
            "100/100 [==============================] - 20s 200ms/step - loss: 0.3133 - acc: 0.8640 - val_loss: 0.0096 - val_acc: 0.9700\n",
            "Epoch 8/30\n",
            "100/100 [==============================] - 20s 198ms/step - loss: 0.3108 - acc: 0.8580 - val_loss: 0.0328 - val_acc: 0.9710\n",
            "Epoch 9/30\n",
            "100/100 [==============================] - 20s 200ms/step - loss: 0.3025 - acc: 0.8670 - val_loss: 0.0047 - val_acc: 0.9720\n",
            "Epoch 10/30\n",
            "100/100 [==============================] - 20s 198ms/step - loss: 0.3202 - acc: 0.8615 - val_loss: 0.0173 - val_acc: 0.9600\n",
            "Epoch 11/30\n",
            "100/100 [==============================] - 20s 196ms/step - loss: 0.3041 - acc: 0.8715 - val_loss: 0.6166 - val_acc: 0.9660\n",
            "Epoch 12/30\n",
            "100/100 [==============================] - 20s 197ms/step - loss: 0.2815 - acc: 0.8790 - val_loss: 0.3574 - val_acc: 0.9710\n",
            "Epoch 13/30\n",
            "100/100 [==============================] - 20s 199ms/step - loss: 0.2798 - acc: 0.8800 - val_loss: 0.0170 - val_acc: 0.9600\n",
            "Epoch 14/30\n",
            "100/100 [==============================] - 20s 200ms/step - loss: 0.3016 - acc: 0.8685 - val_loss: 0.0192 - val_acc: 0.9710\n",
            "Epoch 15/30\n",
            "100/100 [==============================] - 20s 199ms/step - loss: 0.2900 - acc: 0.8740 - val_loss: 0.0547 - val_acc: 0.9670\n",
            "Epoch 16/30\n",
            "100/100 [==============================] - 20s 202ms/step - loss: 0.2731 - acc: 0.8775 - val_loss: 0.0092 - val_acc: 0.9740\n",
            "Epoch 17/30\n",
            "100/100 [==============================] - 20s 201ms/step - loss: 0.2727 - acc: 0.8810 - val_loss: 0.0632 - val_acc: 0.9580\n",
            "Epoch 18/30\n",
            "100/100 [==============================] - 20s 203ms/step - loss: 0.2866 - acc: 0.8745 - val_loss: 1.1085e-04 - val_acc: 0.9670\n",
            "Epoch 19/30\n",
            "100/100 [==============================] - 20s 201ms/step - loss: 0.2773 - acc: 0.8740 - val_loss: 0.4974 - val_acc: 0.9680\n",
            "Epoch 20/30\n",
            "100/100 [==============================] - 20s 199ms/step - loss: 0.2667 - acc: 0.8885 - val_loss: 0.0043 - val_acc: 0.9740\n",
            "Epoch 21/30\n",
            "100/100 [==============================] - 20s 195ms/step - loss: 0.2968 - acc: 0.8635 - val_loss: 0.0059 - val_acc: 0.9730\n",
            "Epoch 22/30\n",
            "100/100 [==============================] - 20s 196ms/step - loss: 0.2770 - acc: 0.8855 - val_loss: 0.0056 - val_acc: 0.9710\n",
            "Epoch 23/30\n",
            "100/100 [==============================] - 19s 195ms/step - loss: 0.2687 - acc: 0.8905 - val_loss: 0.4215 - val_acc: 0.9710\n",
            "Epoch 24/30\n",
            "100/100 [==============================] - 20s 197ms/step - loss: 0.2794 - acc: 0.8760 - val_loss: 0.4410 - val_acc: 0.9690\n",
            "Epoch 25/30\n",
            "100/100 [==============================] - 20s 195ms/step - loss: 0.2665 - acc: 0.8870 - val_loss: 0.0043 - val_acc: 0.9730\n",
            "Epoch 26/30\n",
            "100/100 [==============================] - 19s 195ms/step - loss: 0.2816 - acc: 0.8785 - val_loss: 0.6527 - val_acc: 0.9720\n",
            "Epoch 27/30\n",
            "100/100 [==============================] - 20s 195ms/step - loss: 0.2813 - acc: 0.8835 - val_loss: 0.0019 - val_acc: 0.9700\n",
            "Epoch 28/30\n",
            "100/100 [==============================] - 20s 197ms/step - loss: 0.2740 - acc: 0.8865 - val_loss: 0.2107 - val_acc: 0.9610\n",
            "Epoch 29/30\n",
            "100/100 [==============================] - 19s 194ms/step - loss: 0.2717 - acc: 0.8815 - val_loss: 0.0051 - val_acc: 0.9730\n",
            "Epoch 30/30\n",
            "100/100 [==============================] - 19s 193ms/step - loss: 0.2607 - acc: 0.8815 - val_loss: 0.9831 - val_acc: 0.9620\n"
          ],
          "name": "stdout"
        }
      ]
    },
    {
      "cell_type": "markdown",
      "metadata": {
        "id": "TclHFuXoRIZj",
        "colab_type": "text"
      },
      "source": [
        "# Display curves of loss and accuracy during training"
      ]
    },
    {
      "cell_type": "code",
      "metadata": {
        "id": "kCr95QySRMbu",
        "colab_type": "code",
        "colab": {
          "base_uri": "https://localhost:8080/",
          "height": 545
        },
        "outputId": "b0e457db-da0a-4060-c289-fcaab894fc53"
      },
      "source": [
        "%matplotlib inline\n",
        "\n",
        "import matplotlib.pyplot as plt\n",
        "\n",
        "acc = history.history['acc']\n",
        "val_acc = history.history['val_acc']\n",
        "\n",
        "loss = history.history['loss']\n",
        "val_loss = history.history['val_loss']\n",
        "\n",
        "epochs = range(1, len(acc) + 1)\n",
        "\n",
        "# training and validation accuracy\n",
        "\n",
        "plt.plot(epochs, acc, 'bo', label='training acc')\n",
        "plt.plot(epochs, val_acc, 'b', label='validation acc')\n",
        "plt.title('training and validation accuracy')\n",
        "plt.legend()\n",
        "\n",
        "plt.figure()\n",
        "\n",
        "# training and validation loss\n",
        "\n",
        "plt.plot(epochs, loss, 'bo', label='training loss')\n",
        "plt.plot(epochs, val_loss, 'b', label='validation loss')\n",
        "plt.title('training and validation loss')\n",
        "plt.legend()\n",
        "\n",
        "plt.show()"
      ],
      "execution_count": 13,
      "outputs": [
        {
          "output_type": "display_data",
          "data": {
            "image/png": "[encoded data removed]",
            "text/plain": [
              "<Figure size 432x288 with 1 Axes>"
            ]
          },
          "metadata": {
            "tags": [],
            "needs_background": "light"
          }
        },
        {
          "output_type": "display_data",
          "data": {
            "image/png": "[encoded data removed]",
            "text/plain": [
              "<Figure size 432x288 with 1 Axes>"
            ]
          },
          "metadata": {
            "tags": [],
            "needs_background": "light"
          }
        }
      ]
    },
    {
      "cell_type": "markdown",
      "metadata": {
        "id": "yt6ADqLHSfCL",
        "colab_type": "text"
      },
      "source": [
        "# Fine-tuning"
      ]
    },
    {
      "cell_type": "code",
      "metadata": {
        "id": "uv7Q4eQjShv-",
        "colab_type": "code",
        "colab": {}
      },
      "source": [
        "conv_base.trainable = True\n",
        "\n",
        "set_trainable = False\n",
        "for layer in conv_base.layers:\n",
        "  if layer.name == 'block1_conv1':\n",
        "    set_trainable = True\n",
        "  if set_trainable:\n",
        "    layer.trainable = True\n",
        "  else:\n",
        "    layer.trainable = False"
      ],
      "execution_count": 0,
      "outputs": []
    },
    {
      "cell_type": "code",
      "metadata": {
        "id": "9X6y98TOSq4M",
        "colab_type": "code",
        "colab": {
          "base_uri": "https://localhost:8080/",
          "height": 1000
        },
        "outputId": "eae1d339-656a-4a60-8c56-ccf4652d35c6"
      },
      "source": [
        "# compile model\n",
        "\n",
        "model.compile(\n",
        "    loss='binary_crossentropy',\n",
        "    #\n",
        "    # choose a smaller learning rate\n",
        "    #\n",
        "    optimizer=optimizers.RMSprop(lr=1e-5), \n",
        "    metrics=['acc'])\n",
        "\n",
        "# train\n",
        "\n",
        "history = model.fit_generator(\n",
        "    train_generator,\n",
        "    steps_per_epoch=100,\n",
        "    epochs=100,\n",
        "    validation_data=validation_generator,\n",
        "    validation_steps=50)"
      ],
      "execution_count": 15,
      "outputs": [
        {
          "output_type": "stream",
          "text": [
            "Epoch 1/100\n",
            "100/100 [==============================] - 54s 545ms/step - loss: 0.2472 - acc: 0.8860 - val_loss: 0.4512 - val_acc: 0.9570\n",
            "Epoch 2/100\n",
            "100/100 [==============================] - 44s 438ms/step - loss: 0.2158 - acc: 0.9155 - val_loss: 0.0772 - val_acc: 0.9350\n",
            "Epoch 3/100\n",
            "100/100 [==============================] - 44s 437ms/step - loss: 0.2221 - acc: 0.9115 - val_loss: 0.0241 - val_acc: 0.9450\n",
            "Epoch 4/100\n",
            "100/100 [==============================] - 44s 436ms/step - loss: 0.1880 - acc: 0.9200 - val_loss: 0.2149 - val_acc: 0.9460\n",
            "Epoch 5/100\n",
            "100/100 [==============================] - 44s 438ms/step - loss: 0.1754 - acc: 0.9285 - val_loss: 0.0473 - val_acc: 0.9350\n",
            "Epoch 6/100\n",
            "100/100 [==============================] - 44s 438ms/step - loss: 0.1773 - acc: 0.9235 - val_loss: 0.1508 - val_acc: 0.9450\n",
            "Epoch 7/100\n",
            "100/100 [==============================] - 44s 440ms/step - loss: 0.1591 - acc: 0.9340 - val_loss: 0.4193 - val_acc: 0.9500\n",
            "Epoch 8/100\n",
            "100/100 [==============================] - 44s 439ms/step - loss: 0.1588 - acc: 0.9330 - val_loss: 0.1761 - val_acc: 0.9630\n",
            "Epoch 9/100\n",
            "100/100 [==============================] - 44s 439ms/step - loss: 0.1424 - acc: 0.9405 - val_loss: 0.0240 - val_acc: 0.9580\n",
            "Epoch 10/100\n",
            "100/100 [==============================] - 44s 440ms/step - loss: 0.1309 - acc: 0.9520 - val_loss: 0.0048 - val_acc: 0.9560\n",
            "Epoch 11/100\n",
            "100/100 [==============================] - 44s 440ms/step - loss: 0.1307 - acc: 0.9505 - val_loss: 0.0797 - val_acc: 0.9610\n",
            "Epoch 12/100\n",
            "100/100 [==============================] - 44s 438ms/step - loss: 0.1205 - acc: 0.9525 - val_loss: 0.5210 - val_acc: 0.9640\n",
            "Epoch 13/100\n",
            "100/100 [==============================] - 44s 439ms/step - loss: 0.1117 - acc: 0.9555 - val_loss: 0.0366 - val_acc: 0.9630\n",
            "Epoch 14/100\n",
            "100/100 [==============================] - 44s 440ms/step - loss: 0.1109 - acc: 0.9575 - val_loss: 0.4098 - val_acc: 0.9650\n",
            "Epoch 15/100\n",
            "100/100 [==============================] - 44s 439ms/step - loss: 0.1018 - acc: 0.9605 - val_loss: 0.1317 - val_acc: 0.9620\n",
            "Epoch 16/100\n",
            "100/100 [==============================] - 44s 440ms/step - loss: 0.1192 - acc: 0.9620 - val_loss: 0.0185 - val_acc: 0.9660\n",
            "Epoch 17/100\n",
            "100/100 [==============================] - 44s 437ms/step - loss: 0.0858 - acc: 0.9675 - val_loss: 0.0146 - val_acc: 0.9670\n",
            "Epoch 18/100\n",
            "100/100 [==============================] - 44s 439ms/step - loss: 0.0779 - acc: 0.9690 - val_loss: 0.0982 - val_acc: 0.9660\n",
            "Epoch 19/100\n",
            "100/100 [==============================] - 44s 440ms/step - loss: 0.1059 - acc: 0.9620 - val_loss: 0.0079 - val_acc: 0.9660\n",
            "Epoch 20/100\n",
            "100/100 [==============================] - 44s 438ms/step - loss: 0.0804 - acc: 0.9675 - val_loss: 0.0239 - val_acc: 0.9690\n",
            "Epoch 21/100\n",
            "100/100 [==============================] - 44s 439ms/step - loss: 0.0893 - acc: 0.9705 - val_loss: 0.1080 - val_acc: 0.9690\n",
            "Epoch 22/100\n",
            "100/100 [==============================] - 44s 439ms/step - loss: 0.1034 - acc: 0.9645 - val_loss: 0.4765 - val_acc: 0.9710\n",
            "Epoch 23/100\n",
            "100/100 [==============================] - 44s 440ms/step - loss: 0.0744 - acc: 0.9740 - val_loss: 0.2796 - val_acc: 0.9720\n",
            "Epoch 24/100\n",
            "100/100 [==============================] - 44s 439ms/step - loss: 0.0622 - acc: 0.9775 - val_loss: 0.0882 - val_acc: 0.9720\n",
            "Epoch 25/100\n",
            "100/100 [==============================] - 44s 438ms/step - loss: 0.0706 - acc: 0.9735 - val_loss: 0.0074 - val_acc: 0.9690\n",
            "Epoch 26/100\n",
            "100/100 [==============================] - 44s 439ms/step - loss: 0.0556 - acc: 0.9815 - val_loss: 0.4024 - val_acc: 0.9680\n",
            "Epoch 27/100\n",
            "100/100 [==============================] - 44s 438ms/step - loss: 0.0665 - acc: 0.9770 - val_loss: 0.0122 - val_acc: 0.9720\n",
            "Epoch 28/100\n",
            "100/100 [==============================] - 44s 439ms/step - loss: 0.0810 - acc: 0.9710 - val_loss: 0.2561 - val_acc: 0.9670\n",
            "Epoch 29/100\n",
            "100/100 [==============================] - 44s 439ms/step - loss: 0.0648 - acc: 0.9755 - val_loss: 0.0013 - val_acc: 0.9720\n",
            "Epoch 30/100\n",
            "100/100 [==============================] - 44s 438ms/step - loss: 0.0662 - acc: 0.9745 - val_loss: 0.5784 - val_acc: 0.9550\n",
            "Epoch 31/100\n",
            "100/100 [==============================] - 44s 440ms/step - loss: 0.0577 - acc: 0.9825 - val_loss: 8.8142e-04 - val_acc: 0.9720\n",
            "Epoch 32/100\n",
            "100/100 [==============================] - 44s 440ms/step - loss: 0.0502 - acc: 0.9840 - val_loss: 0.1143 - val_acc: 0.9690\n",
            "Epoch 33/100\n",
            "100/100 [==============================] - 44s 441ms/step - loss: 0.0535 - acc: 0.9800 - val_loss: 3.7732e-04 - val_acc: 0.9670\n",
            "Epoch 34/100\n",
            "100/100 [==============================] - 44s 440ms/step - loss: 0.0628 - acc: 0.9760 - val_loss: 0.0011 - val_acc: 0.9690\n",
            "Epoch 35/100\n",
            "100/100 [==============================] - 44s 441ms/step - loss: 0.0416 - acc: 0.9880 - val_loss: 0.0387 - val_acc: 0.9710\n",
            "Epoch 36/100\n",
            "100/100 [==============================] - 44s 441ms/step - loss: 0.0531 - acc: 0.9795 - val_loss: 0.0415 - val_acc: 0.9670\n",
            "Epoch 37/100\n",
            "100/100 [==============================] - 44s 439ms/step - loss: 0.0527 - acc: 0.9835 - val_loss: 4.5991e-05 - val_acc: 0.9690\n",
            "Epoch 38/100\n",
            "100/100 [==============================] - 44s 440ms/step - loss: 0.0458 - acc: 0.9825 - val_loss: 2.7335e-04 - val_acc: 0.9720\n",
            "Epoch 39/100\n",
            "100/100 [==============================] - 44s 438ms/step - loss: 0.0362 - acc: 0.9870 - val_loss: 0.0460 - val_acc: 0.9740\n",
            "Epoch 40/100\n",
            "100/100 [==============================] - 44s 440ms/step - loss: 0.0511 - acc: 0.9815 - val_loss: 0.0729 - val_acc: 0.9730\n",
            "Epoch 41/100\n",
            "100/100 [==============================] - 44s 440ms/step - loss: 0.0434 - acc: 0.9875 - val_loss: 2.2379e-04 - val_acc: 0.9710\n",
            "Epoch 42/100\n",
            "100/100 [==============================] - 44s 440ms/step - loss: 0.0378 - acc: 0.9855 - val_loss: 0.5261 - val_acc: 0.9760\n",
            "Epoch 43/100\n",
            "100/100 [==============================] - 44s 440ms/step - loss: 0.0369 - acc: 0.9865 - val_loss: 0.0192 - val_acc: 0.9750\n",
            "Epoch 44/100\n",
            "100/100 [==============================] - 44s 440ms/step - loss: 0.0498 - acc: 0.9840 - val_loss: 0.2423 - val_acc: 0.9600\n",
            "Epoch 45/100\n",
            "100/100 [==============================] - 44s 441ms/step - loss: 0.0484 - acc: 0.9825 - val_loss: 0.1116 - val_acc: 0.9660\n",
            "Epoch 46/100\n",
            "100/100 [==============================] - 44s 441ms/step - loss: 0.0425 - acc: 0.9855 - val_loss: 0.0027 - val_acc: 0.9730\n",
            "Epoch 47/100\n",
            "100/100 [==============================] - 44s 441ms/step - loss: 0.0313 - acc: 0.9880 - val_loss: 0.0076 - val_acc: 0.9690\n",
            "Epoch 48/100\n",
            "100/100 [==============================] - 44s 441ms/step - loss: 0.0426 - acc: 0.9850 - val_loss: 0.4999 - val_acc: 0.9670\n",
            "Epoch 49/100\n",
            "100/100 [==============================] - 44s 441ms/step - loss: 0.0368 - acc: 0.9895 - val_loss: 0.7251 - val_acc: 0.9690\n",
            "Epoch 50/100\n",
            "100/100 [==============================] - 44s 441ms/step - loss: 0.0264 - acc: 0.9905 - val_loss: 0.0030 - val_acc: 0.9660\n",
            "Epoch 51/100\n",
            "100/100 [==============================] - 44s 442ms/step - loss: 0.0253 - acc: 0.9905 - val_loss: 0.2357 - val_acc: 0.9650\n",
            "Epoch 52/100\n",
            "100/100 [==============================] - 44s 439ms/step - loss: 0.0482 - acc: 0.9830 - val_loss: 0.0011 - val_acc: 0.9700\n",
            "Epoch 53/100\n",
            "100/100 [==============================] - 44s 440ms/step - loss: 0.0453 - acc: 0.9860 - val_loss: 0.0721 - val_acc: 0.9720\n",
            "Epoch 54/100\n",
            "100/100 [==============================] - 44s 441ms/step - loss: 0.0229 - acc: 0.9935 - val_loss: 0.0932 - val_acc: 0.9630\n",
            "Epoch 55/100\n",
            "100/100 [==============================] - 44s 440ms/step - loss: 0.0199 - acc: 0.9925 - val_loss: 2.7831e-04 - val_acc: 0.9710\n",
            "Epoch 56/100\n",
            "100/100 [==============================] - 44s 441ms/step - loss: 0.0290 - acc: 0.9895 - val_loss: 0.0016 - val_acc: 0.9740\n",
            "Epoch 57/100\n",
            "100/100 [==============================] - 44s 440ms/step - loss: 0.0355 - acc: 0.9850 - val_loss: 4.7217e-04 - val_acc: 0.9720\n",
            "Epoch 58/100\n",
            "100/100 [==============================] - 44s 441ms/step - loss: 0.0328 - acc: 0.9910 - val_loss: 0.0011 - val_acc: 0.9730\n",
            "Epoch 59/100\n",
            "100/100 [==============================] - 44s 441ms/step - loss: 0.0393 - acc: 0.9880 - val_loss: 0.0085 - val_acc: 0.9730\n",
            "Epoch 60/100\n",
            "100/100 [==============================] - 44s 441ms/step - loss: 0.0408 - acc: 0.9865 - val_loss: 0.2260 - val_acc: 0.9770\n",
            "Epoch 61/100\n",
            "100/100 [==============================] - 44s 440ms/step - loss: 0.0272 - acc: 0.9905 - val_loss: 0.0036 - val_acc: 0.9750\n",
            "Epoch 62/100\n",
            "100/100 [==============================] - 44s 443ms/step - loss: 0.0292 - acc: 0.9910 - val_loss: 0.1963 - val_acc: 0.9740\n",
            "Epoch 63/100\n",
            "100/100 [==============================] - 44s 441ms/step - loss: 0.0304 - acc: 0.9920 - val_loss: 0.2219 - val_acc: 0.9750\n",
            "Epoch 64/100\n",
            "100/100 [==============================] - 44s 442ms/step - loss: 0.0237 - acc: 0.9915 - val_loss: 0.0039 - val_acc: 0.9670\n",
            "Epoch 65/100\n",
            "100/100 [==============================] - 44s 442ms/step - loss: 0.0274 - acc: 0.9885 - val_loss: 0.1911 - val_acc: 0.9700\n",
            "Epoch 66/100\n",
            "100/100 [==============================] - 44s 441ms/step - loss: 0.0320 - acc: 0.9920 - val_loss: 7.6313e-04 - val_acc: 0.9730\n",
            "Epoch 67/100\n",
            "100/100 [==============================] - 44s 441ms/step - loss: 0.0207 - acc: 0.9915 - val_loss: 3.6472e-04 - val_acc: 0.9730\n",
            "Epoch 68/100\n",
            "100/100 [==============================] - 44s 440ms/step - loss: 0.0276 - acc: 0.9925 - val_loss: 0.5072 - val_acc: 0.9780\n",
            "Epoch 69/100\n",
            "100/100 [==============================] - 44s 442ms/step - loss: 0.0162 - acc: 0.9955 - val_loss: 1.3847e-04 - val_acc: 0.9750\n",
            "Epoch 70/100\n",
            "100/100 [==============================] - 44s 441ms/step - loss: 0.0343 - acc: 0.9890 - val_loss: 0.0856 - val_acc: 0.9700\n",
            "Epoch 71/100\n",
            "100/100 [==============================] - 44s 442ms/step - loss: 0.0265 - acc: 0.9955 - val_loss: 7.7640e-05 - val_acc: 0.9730\n",
            "Epoch 72/100\n",
            "100/100 [==============================] - 44s 441ms/step - loss: 0.0197 - acc: 0.9930 - val_loss: 7.5595e-04 - val_acc: 0.9740\n",
            "Epoch 73/100\n",
            "100/100 [==============================] - 44s 440ms/step - loss: 0.0193 - acc: 0.9955 - val_loss: 0.0157 - val_acc: 0.9730\n",
            "Epoch 74/100\n",
            "100/100 [==============================] - 44s 441ms/step - loss: 0.0157 - acc: 0.9950 - val_loss: 0.0025 - val_acc: 0.9740\n",
            "Epoch 75/100\n",
            "100/100 [==============================] - 44s 441ms/step - loss: 0.0271 - acc: 0.9925 - val_loss: 0.3798 - val_acc: 0.9740\n",
            "Epoch 76/100\n",
            "100/100 [==============================] - 44s 441ms/step - loss: 0.0195 - acc: 0.9935 - val_loss: 0.0011 - val_acc: 0.9720\n",
            "Epoch 77/100\n",
            "100/100 [==============================] - 44s 442ms/step - loss: 0.0286 - acc: 0.9920 - val_loss: 0.2420 - val_acc: 0.9800\n",
            "Epoch 78/100\n",
            "100/100 [==============================] - 44s 440ms/step - loss: 0.0175 - acc: 0.9940 - val_loss: 6.0721e-05 - val_acc: 0.9720\n",
            "Epoch 79/100\n",
            "100/100 [==============================] - 44s 442ms/step - loss: 0.0271 - acc: 0.9935 - val_loss: 0.0944 - val_acc: 0.9760\n",
            "Epoch 80/100\n",
            "100/100 [==============================] - 44s 439ms/step - loss: 0.0250 - acc: 0.9915 - val_loss: 0.5958 - val_acc: 0.9710\n",
            "Epoch 81/100\n",
            "100/100 [==============================] - 44s 442ms/step - loss: 0.0185 - acc: 0.9965 - val_loss: 0.0324 - val_acc: 0.9690\n",
            "Epoch 82/100\n",
            "100/100 [==============================] - 44s 440ms/step - loss: 0.0314 - acc: 0.9880 - val_loss: 0.0017 - val_acc: 0.9680\n",
            "Epoch 83/100\n",
            "100/100 [==============================] - 44s 441ms/step - loss: 0.0210 - acc: 0.9945 - val_loss: 0.0059 - val_acc: 0.9720\n",
            "Epoch 84/100\n",
            "100/100 [==============================] - 44s 441ms/step - loss: 0.0069 - acc: 0.9985 - val_loss: 0.2322 - val_acc: 0.9710\n",
            "Epoch 85/100\n",
            "100/100 [==============================] - 44s 441ms/step - loss: 0.0141 - acc: 0.9945 - val_loss: 0.0049 - val_acc: 0.9750\n",
            "Epoch 86/100\n",
            "100/100 [==============================] - 44s 439ms/step - loss: 0.0162 - acc: 0.9925 - val_loss: 3.9541e-04 - val_acc: 0.9730\n",
            "Epoch 87/100\n",
            "100/100 [==============================] - 44s 441ms/step - loss: 0.0165 - acc: 0.9950 - val_loss: 0.2298 - val_acc: 0.9710\n",
            "Epoch 88/100\n",
            "100/100 [==============================] - 44s 441ms/step - loss: 0.0073 - acc: 0.9970 - val_loss: 0.2806 - val_acc: 0.9770\n",
            "Epoch 89/100\n",
            "100/100 [==============================] - 44s 441ms/step - loss: 0.0133 - acc: 0.9970 - val_loss: 5.8388e-04 - val_acc: 0.9740\n",
            "Epoch 90/100\n",
            "100/100 [==============================] - 44s 441ms/step - loss: 0.0186 - acc: 0.9955 - val_loss: 0.1894 - val_acc: 0.9730\n",
            "Epoch 91/100\n",
            "100/100 [==============================] - 44s 440ms/step - loss: 0.0304 - acc: 0.9920 - val_loss: 0.0103 - val_acc: 0.9710\n",
            "Epoch 92/100\n",
            "100/100 [==============================] - 44s 440ms/step - loss: 0.0211 - acc: 0.9930 - val_loss: 0.0944 - val_acc: 0.9710\n",
            "Epoch 93/100\n",
            "100/100 [==============================] - 44s 440ms/step - loss: 0.0172 - acc: 0.9955 - val_loss: 4.4585e-04 - val_acc: 0.9710\n",
            "Epoch 94/100\n",
            "100/100 [==============================] - 44s 440ms/step - loss: 0.0255 - acc: 0.9940 - val_loss: 0.1052 - val_acc: 0.9700\n",
            "Epoch 95/100\n",
            "100/100 [==============================] - 44s 441ms/step - loss: 0.0118 - acc: 0.9950 - val_loss: 0.2050 - val_acc: 0.9760\n",
            "Epoch 96/100\n",
            "100/100 [==============================] - 44s 439ms/step - loss: 0.0260 - acc: 0.9945 - val_loss: 0.6723 - val_acc: 0.9720\n",
            "Epoch 97/100\n",
            "100/100 [==============================] - 44s 441ms/step - loss: 0.0181 - acc: 0.9930 - val_loss: 0.2090 - val_acc: 0.9740\n",
            "Epoch 98/100\n",
            "100/100 [==============================] - 44s 439ms/step - loss: 0.0152 - acc: 0.9940 - val_loss: 0.0363 - val_acc: 0.9750\n",
            "Epoch 99/100\n",
            "100/100 [==============================] - 44s 441ms/step - loss: 0.0104 - acc: 0.9965 - val_loss: 0.0020 - val_acc: 0.9660\n",
            "Epoch 100/100\n",
            "100/100 [==============================] - 44s 440ms/step - loss: 0.0207 - acc: 0.9930 - val_loss: 0.0309 - val_acc: 0.9760\n"
          ],
          "name": "stdout"
        }
      ]
    },
    {
      "cell_type": "markdown",
      "metadata": {
        "id": "FD47CPygSz8q",
        "colab_type": "text"
      },
      "source": [
        "# Display learning curves during fine-tuning"
      ]
    },
    {
      "cell_type": "code",
      "metadata": {
        "id": "gox1eVDqSwpc",
        "colab_type": "code",
        "colab": {
          "base_uri": "https://localhost:8080/",
          "height": 545
        },
        "outputId": "4c2b2767-572d-4be9-97d3-12ccc2d56937"
      },
      "source": [
        "%matplotlib inline\n",
        "\n",
        "import matplotlib.pyplot as plt\n",
        "\n",
        "acc = history.history['acc']\n",
        "val_acc = history.history['val_acc']\n",
        "\n",
        "loss = history.history['loss']\n",
        "val_loss = history.history['val_loss']\n",
        "\n",
        "epochs = range(1, len(acc) + 1)\n",
        "\n",
        "# training and validation accuracy\n",
        "\n",
        "plt.plot(epochs, acc, 'bo', label='training acc')\n",
        "plt.plot(epochs, val_acc, 'b', label='validation acc')\n",
        "plt.title('training and validation accuracy')\n",
        "plt.legend()\n",
        "\n",
        "plt.figure()\n",
        "\n",
        "# training and validation loss\n",
        "\n",
        "plt.plot(epochs, loss, 'bo', label='training loss')\n",
        "plt.plot(epochs, val_loss, 'b', label='validation loss')\n",
        "plt.title('training and validation loss')\n",
        "plt.legend()\n",
        "\n",
        "plt.show()"
      ],
      "execution_count": 16,
      "outputs": [
        {
          "output_type": "display_data",
          "data": {
            "image/png": "[encoded data removed]",
            "text/plain": [
              "<Figure size 432x288 with 1 Axes>"
            ]
          },
          "metadata": {
            "tags": [],
            "needs_background": "light"
          }
        },
        {
          "output_type": "display_data",
          "data": {
            "image/png": "[encoded data removed]",
            "text/plain": [
              "<Figure size 432x288 with 1 Axes>"
            ]
          },
          "metadata": {
            "tags": [],
            "needs_background": "light"
          }
        }
      ]
    },
    {
      "cell_type": "markdown",
      "metadata": {
        "id": "xNwFKfaoS-Y6",
        "colab_type": "text"
      },
      "source": [
        "This looks like overfitting. I should try adding dropout for the densely connected layer."
      ]
    },
    {
      "cell_type": "markdown",
      "metadata": {
        "id": "34BqQeXFTAsO",
        "colab_type": "text"
      },
      "source": [
        "# Print out validation loss and accuracy"
      ]
    },
    {
      "cell_type": "code",
      "metadata": {
        "id": "rxbiGuB5TDa6",
        "colab_type": "code",
        "colab": {}
      },
      "source": [
        "val_loss, val_acc = model.evaluate_generator(validation_generator, steps=50)"
      ],
      "execution_count": 0,
      "outputs": []
    },
    {
      "cell_type": "code",
      "metadata": {
        "id": "ALPiENafTFF5",
        "colab_type": "code",
        "colab": {
          "base_uri": "https://localhost:8080/",
          "height": 51
        },
        "outputId": "3e3598b6-a8ef-4e3a-dc4d-2593c2f97e18"
      },
      "source": [
        "print(\"Validation loss:\", val_loss)\n",
        "print(\"Validation accuracy:\", val_acc)"
      ],
      "execution_count": 18,
      "outputs": [
        {
          "output_type": "stream",
          "text": [
            "Validation loss: 0.030900482088327408\n",
            "Validation accuracy: 0.9760000109672546\n"
          ],
          "name": "stdout"
        }
      ]
    },
    {
      "cell_type": "markdown",
      "metadata": {
        "id": "P2sWNe9fTG2a",
        "colab_type": "text"
      },
      "source": [
        "# Save the model"
      ]
    },
    {
      "cell_type": "code",
      "metadata": {
        "id": "-rvxfqMRTIdy",
        "colab_type": "code",
        "colab": {}
      },
      "source": [
        "model_fname = 'cats_and_dogs_small_4.h5' \n",
        "model.save(model_fname)"
      ],
      "execution_count": 0,
      "outputs": []
    },
    {
      "cell_type": "code",
      "metadata": {
        "id": "L3TlsdVlTKRg",
        "colab_type": "code",
        "colab": {
          "base_uri": "https://localhost:8080/",
          "height": 442
        },
        "outputId": "84c5697d-813e-4984-bf2d-30549806cff6"
      },
      "source": [
        "from google.colab import files\n",
        "\n",
        "with open(model_fname, 'r') as f:\n",
        "  files.download(model_fname)"
      ],
      "execution_count": 0,
      "outputs": [
        {
          "output_type": "stream",
          "text": [
            "----------------------------------------\n",
            "Exception happened during processing of request from ('::ffff:127.0.0.1', 44082, 0, 0)\n",
            "Traceback (most recent call last):\n",
            "  File \"/usr/lib/python3.6/socketserver.py\", line 320, in _handle_request_noblock\n",
            "    self.process_request(request, client_address)\n",
            "  File \"/usr/lib/python3.6/socketserver.py\", line 351, in process_request\n",
            "    self.finish_request(request, client_address)\n",
            "  File \"/usr/lib/python3.6/socketserver.py\", line 364, in finish_request\n",
            "    self.RequestHandlerClass(request, client_address, self)\n",
            "  File \"/usr/lib/python3.6/socketserver.py\", line 724, in __init__\n",
            "    self.handle()\n",
            "  File \"/usr/lib/python3.6/http/server.py\", line 418, in handle\n",
            "    self.handle_one_request()\n",
            "  File \"/usr/lib/python3.6/http/server.py\", line 406, in handle_one_request\n",
            "    method()\n",
            "  File \"/usr/lib/python3.6/http/server.py\", line 639, in do_GET\n",
            "    self.copyfile(f, self.wfile)\n",
            "  File \"/usr/lib/python3.6/http/server.py\", line 800, in copyfile\n",
            "    shutil.copyfileobj(source, outputfile)\n",
            "  File \"/usr/lib/python3.6/shutil.py\", line 82, in copyfileobj\n",
            "    fdst.write(buf)\n",
            "  File \"/usr/lib/python3.6/socketserver.py\", line 803, in write\n",
            "    self._sock.sendall(b)\n",
            "ConnectionResetError: [Errno 104] Connection reset by peer\n",
            "----------------------------------------\n"
          ],
          "name": "stderr"
        }
      ]
    }
  ]
}