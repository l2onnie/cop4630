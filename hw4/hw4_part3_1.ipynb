{
  "nbformat": 4,
  "nbformat_minor": 0,
  "metadata": {
    "colab": {
      "name": "hw4_part3.1.ipynb",
      "provenance": [],
      "collapsed_sections": [],
      "authorship_tag": "ABX9TyM3RLLZB5f7v3RglWBz8kJk",
      "include_colab_link": true
    },
    "kernelspec": {
      "name": "python3",
      "display_name": "Python 3"
    },
    "accelerator": "GPU"
  },
  "cells": [
    {
      "cell_type": "markdown",
      "metadata": {
        "id": "view-in-github",
        "colab_type": "text"
      },
      "source": [
        "<a href=\"https://colab.research.google.com/github/l2onnie/cop4630/blob/master/hw4/hw4_part3_1.ipynb\" target=\"_parent\"><img src=\"https://colab.research.google.com/assets/colab-badge.svg\" alt=\"Open In Colab\"/></a>"
      ]
    },
    {
      "cell_type": "markdown",
      "metadata": {
        "id": "qXfKMAzrNjFz",
        "colab_type": "text"
      },
      "source": [
        "# Problem 3 Part 1"
      ]
    },
    {
      "cell_type": "markdown",
      "metadata": {
        "id": "i60PsT92NlQ2",
        "colab_type": "text"
      },
      "source": [
        "## Fine-tuning VGG16\n",
        "This is based on section 5.3 Using a pretrained convnet of the book Deep learning with Python by Francois Chollet. I have made several changes to the code. I use the data that is already provided by Google. I don't download the data from Kaggle as in the deep learning book."
      ]
    },
    {
      "cell_type": "markdown",
      "metadata": {
        "id": "tUrKWOhTNquX",
        "colab_type": "text"
      },
      "source": [
        "## Feature extraction\n",
        "Feature extraction consists of using the representations learned by a previous network to extract interesting features from new samples. These features are then run through a new classifier, which is trained from scratch.\n",
        "\n",
        "We will use here the convolutional base of the VGG16 model to extract the features. We will feed these features to a densely connected classifier with dropout. We will fine-tune some layers."
      ]
    },
    {
      "cell_type": "markdown",
      "metadata": {
        "id": "267dUHfHN1_K",
        "colab_type": "text"
      },
      "source": [
        "### Download the data\n",
        "Download the example data, a zip. of 2,000 JPG pictures of cats and dogs and extract it locally in /tmp."
      ]
    },
    {
      "cell_type": "code",
      "metadata": {
        "id": "XIeXH_qjN9NU",
        "colab_type": "code",
        "colab": {
          "base_uri": "https://localhost:8080/",
          "height": 204
        },
        "outputId": "ee4c5bbc-8f07-4a38-ed54-03b4199bf110"
      },
      "source": [
        "!wget --no-check-certificate \\\n",
        "    https://storage.googleapis.com/mledu-datasets/cats_and_dogs_filtered.zip \\\n",
        "    -O /tmp/cats_and_dogs_filtered.zip"
      ],
      "execution_count": 1,
      "outputs": [
        {
          "output_type": "stream",
          "text": [
            "--2020-04-21 20:23:29--  https://storage.googleapis.com/mledu-datasets/cats_and_dogs_filtered.zip\n",
            "Resolving storage.googleapis.com (storage.googleapis.com)... 64.233.187.128, 2404:6800:4008:c07::80\n",
            "Connecting to storage.googleapis.com (storage.googleapis.com)|64.233.187.128|:443... connected.\n",
            "HTTP request sent, awaiting response... 200 OK\n",
            "Length: 68606236 (65M) [application/zip]\n",
            "Saving to: ‘/tmp/cats_and_dogs_filtered.zip’\n",
            "\n",
            "/tmp/cats_and_dogs_ 100%[===================>]  65.43M  88.8MB/s    in 0.7s    \n",
            "\n",
            "2020-04-21 20:23:30 (88.8 MB/s) - ‘/tmp/cats_and_dogs_filtered.zip’ saved [68606236/68606236]\n",
            "\n"
          ],
          "name": "stdout"
        }
      ]
    },
    {
      "cell_type": "code",
      "metadata": {
        "id": "PDwvDWcaOBt9",
        "colab_type": "code",
        "colab": {}
      },
      "source": [
        "import os\n",
        "import zipfile\n",
        "\n",
        "local_zip = '/tmp/cats_and_dogs_filtered.zip'\n",
        "zip_ref = zipfile.ZipFile(local_zip, 'r')\n",
        "zip_ref.extractall('/tmp')\n",
        "zip_ref.close()"
      ],
      "execution_count": 0,
      "outputs": []
    },
    {
      "cell_type": "markdown",
      "metadata": {
        "id": "1hfbanpmOPxI",
        "colab_type": "text"
      },
      "source": [
        "Note that the data provided by Google does not have a test set.\n",
        "\n"
      ]
    },
    {
      "cell_type": "code",
      "metadata": {
        "id": "iq77tqHxOL_B",
        "colab_type": "code",
        "colab": {}
      },
      "source": [
        "base_dir = '/tmp/cats_and_dogs_filtered'\n",
        "train_dir = os.path.join(base_dir, 'train')\n",
        "validation_dir = os.path.join(base_dir, 'validation')\n",
        "\n",
        "# Directory with our training cat pictures\n",
        "train_cats_dir = os.path.join(train_dir, 'cats')\n",
        "\n",
        "# Directory with our training dog pictures\n",
        "train_dogs_dir = os.path.join(train_dir, 'dogs')\n",
        "\n",
        "# Directory with our validation cat pictures\n",
        "validation_cats_dir = os.path.join(validation_dir, 'cats')\n",
        "\n",
        "# Directory with our validation dog pictures\n",
        "validation_dogs_dir = os.path.join(validation_dir, 'dogs')"
      ],
      "execution_count": 0,
      "outputs": []
    },
    {
      "cell_type": "markdown",
      "metadata": {
        "id": "uLlnMD5wOWFU",
        "colab_type": "text"
      },
      "source": [
        "# Build network with VGG16 convolution base and custom densely connected layers"
      ]
    },
    {
      "cell_type": "markdown",
      "metadata": {
        "id": "1E8zy_uOOYTA",
        "colab_type": "text"
      },
      "source": [
        "## Train the model end to end with frozen convolutional base"
      ]
    },
    {
      "cell_type": "code",
      "metadata": {
        "id": "qk2VCKFiOabC",
        "colab_type": "code",
        "colab": {
          "base_uri": "https://localhost:8080/",
          "height": 68
        },
        "outputId": "43254921-282d-4ea0-9dd8-d66775d57d02"
      },
      "source": [
        "from keras.applications import Xception\n",
        "\n",
        "conv_base = Xception(\n",
        "    weights='imagenet', \n",
        "    include_top=False, \n",
        "    input_shape=(150, 150, 3))"
      ],
      "execution_count": 5,
      "outputs": [
        {
          "output_type": "stream",
          "text": [
            "Using TensorFlow backend.\n"
          ],
          "name": "stderr"
        },
        {
          "output_type": "stream",
          "text": [
            "Downloading data from https://github.com/fchollet/deep-learning-models/releases/download/v0.4/xception_weights_tf_dim_ordering_tf_kernels_notop.h5\n",
            "83689472/83683744 [==============================] - 7s 0us/step\n"
          ],
          "name": "stdout"
        }
      ]
    },
    {
      "cell_type": "markdown",
      "metadata": {
        "id": "flnu4m0IPW3F",
        "colab_type": "text"
      },
      "source": [
        "# Freeze the convolutional base"
      ]
    },
    {
      "cell_type": "code",
      "metadata": {
        "id": "KaJBx9wRPnVW",
        "colab_type": "code",
        "colab": {}
      },
      "source": [
        "conv_base.trainable = False"
      ],
      "execution_count": 0,
      "outputs": []
    },
    {
      "cell_type": "markdown",
      "metadata": {
        "id": "Z4ZVK2enPrUp",
        "colab_type": "text"
      },
      "source": [
        "## Concatenate the convolutional base and densely connected layers"
      ]
    },
    {
      "cell_type": "code",
      "metadata": {
        "id": "vkLipk4lPoXv",
        "colab_type": "code",
        "colab": {}
      },
      "source": [
        "from keras import layers\n",
        "from keras import models\n",
        "from keras import optimizers\n",
        "\n",
        "model = models.Sequential()\n",
        "model.add(conv_base)\n",
        "model.add(layers.Flatten())\n",
        "model.add(layers.Dense(256, activation='relu'))\n",
        "#model.add(layers.Dropout(0.1))\n",
        "model.add(layers.Dense(1, activation='sigmoid'))"
      ],
      "execution_count": 0,
      "outputs": []
    },
    {
      "cell_type": "code",
      "metadata": {
        "id": "PZkYLPRpP6_e",
        "colab_type": "code",
        "colab": {
          "base_uri": "https://localhost:8080/",
          "height": 289
        },
        "outputId": "cc476f9f-4ca8-4eba-dd1b-92c0713475ff"
      },
      "source": [
        "model.summary()"
      ],
      "execution_count": 8,
      "outputs": [
        {
          "output_type": "stream",
          "text": [
            "Model: \"sequential_1\"\n",
            "_________________________________________________________________\n",
            "Layer (type)                 Output Shape              Param #   \n",
            "=================================================================\n",
            "xception (Model)             (None, 5, 5, 2048)        20861480  \n",
            "_________________________________________________________________\n",
            "flatten_1 (Flatten)          (None, 51200)             0         \n",
            "_________________________________________________________________\n",
            "dense_1 (Dense)              (None, 256)               13107456  \n",
            "_________________________________________________________________\n",
            "dense_2 (Dense)              (None, 1)                 257       \n",
            "=================================================================\n",
            "Total params: 33,969,193\n",
            "Trainable params: 13,107,713\n",
            "Non-trainable params: 20,861,480\n",
            "_________________________________________________________________\n"
          ],
          "name": "stdout"
        }
      ]
    },
    {
      "cell_type": "markdown",
      "metadata": {
        "id": "RXN81gEJQE4j",
        "colab_type": "text"
      },
      "source": [
        "## Train the model end to end with frozen convolutional base"
      ]
    },
    {
      "cell_type": "code",
      "metadata": {
        "id": "G95TIHMVQKxz",
        "colab_type": "code",
        "colab": {
          "base_uri": "https://localhost:8080/",
          "height": 1000
        },
        "outputId": "b1d2390a-ceec-4a12-bb2e-96921691472d"
      },
      "source": [
        "from keras.preprocessing.image import ImageDataGenerator\n",
        "from keras import optimizers\n",
        "\n",
        "# data augmentation\n",
        "\n",
        "train_datagen = ImageDataGenerator(\n",
        "    rescale=1./255, \n",
        "    rotation_range=40,\n",
        "    width_shift_range=0.2,\n",
        "    height_shift_range=0.2,\n",
        "    shear_range=0.2,\n",
        "    zoom_range=0.2,\n",
        "    horizontal_flip=True,\n",
        "    fill_mode='nearest'\n",
        ")\n",
        "\n",
        "train_generator = train_datagen.flow_from_directory(\n",
        "    train_dir,\n",
        "    target_size=(150, 150),\n",
        "    batch_size=20,\n",
        "    class_mode='binary')\n",
        "\n",
        "validation_datagen = ImageDataGenerator(rescale=1./255)\n",
        "\n",
        "validation_generator = validation_datagen.flow_from_directory(\n",
        "    validation_dir,\n",
        "    target_size=(150, 150),\n",
        "    batch_size=20,\n",
        "    class_mode='binary')\n",
        "\n",
        "# compile model\n",
        "\n",
        "model.compile(\n",
        "    loss='binary_crossentropy', \n",
        "    optimizer=optimizers.RMSprop(lr=2e-5), \n",
        "    metrics=['acc'])\n",
        "\n",
        "# train\n",
        "\n",
        "history = model.fit_generator(\n",
        "    train_generator,\n",
        "    steps_per_epoch=100,\n",
        "    epochs=30,\n",
        "    validation_data=validation_generator,\n",
        "    validation_steps=50\n",
        ")"
      ],
      "execution_count": 9,
      "outputs": [
        {
          "output_type": "stream",
          "text": [
            "Found 2000 images belonging to 2 classes.\n",
            "Found 1000 images belonging to 2 classes.\n",
            "Epoch 1/30\n",
            "100/100 [==============================] - 37s 369ms/step - loss: 0.4665 - acc: 0.7605 - val_loss: 0.5574 - val_acc: 0.9660\n",
            "Epoch 2/30\n",
            "100/100 [==============================] - 26s 265ms/step - loss: 0.3533 - acc: 0.8285 - val_loss: 0.2308 - val_acc: 0.9650\n",
            "Epoch 3/30\n",
            "100/100 [==============================] - 27s 265ms/step - loss: 0.3449 - acc: 0.8475 - val_loss: 0.0463 - val_acc: 0.9640\n",
            "Epoch 4/30\n",
            "100/100 [==============================] - 26s 264ms/step - loss: 0.3448 - acc: 0.8515 - val_loss: 0.0162 - val_acc: 0.9610\n",
            "Epoch 5/30\n",
            "100/100 [==============================] - 26s 264ms/step - loss: 0.3593 - acc: 0.8440 - val_loss: 0.0958 - val_acc: 0.9590\n",
            "Epoch 6/30\n",
            "100/100 [==============================] - 26s 265ms/step - loss: 0.3453 - acc: 0.8405 - val_loss: 0.2084 - val_acc: 0.9550\n",
            "Epoch 7/30\n",
            "100/100 [==============================] - 26s 264ms/step - loss: 0.2988 - acc: 0.8635 - val_loss: 0.0039 - val_acc: 0.9700\n",
            "Epoch 8/30\n",
            "100/100 [==============================] - 26s 264ms/step - loss: 0.3198 - acc: 0.8585 - val_loss: 0.0237 - val_acc: 0.9600\n",
            "Epoch 9/30\n",
            "100/100 [==============================] - 26s 263ms/step - loss: 0.3121 - acc: 0.8665 - val_loss: 0.0014 - val_acc: 0.9670\n",
            "Epoch 10/30\n",
            "100/100 [==============================] - 26s 263ms/step - loss: 0.3126 - acc: 0.8650 - val_loss: 0.9574 - val_acc: 0.9630\n",
            "Epoch 11/30\n",
            "100/100 [==============================] - 26s 265ms/step - loss: 0.3197 - acc: 0.8610 - val_loss: 0.3718 - val_acc: 0.9650\n",
            "Epoch 12/30\n",
            "100/100 [==============================] - 27s 265ms/step - loss: 0.2968 - acc: 0.8785 - val_loss: 0.0162 - val_acc: 0.9670\n",
            "Epoch 13/30\n",
            "100/100 [==============================] - 26s 264ms/step - loss: 0.2908 - acc: 0.8755 - val_loss: 0.3532 - val_acc: 0.9640\n",
            "Epoch 14/30\n",
            "100/100 [==============================] - 27s 265ms/step - loss: 0.3125 - acc: 0.8715 - val_loss: 0.3411 - val_acc: 0.9670\n",
            "Epoch 15/30\n",
            "100/100 [==============================] - 26s 264ms/step - loss: 0.3029 - acc: 0.8675 - val_loss: 1.8251e-07 - val_acc: 0.9620\n",
            "Epoch 16/30\n",
            "100/100 [==============================] - 26s 263ms/step - loss: 0.3108 - acc: 0.8730 - val_loss: 7.6550e-05 - val_acc: 0.9700\n",
            "Epoch 17/30\n",
            "100/100 [==============================] - 26s 264ms/step - loss: 0.2714 - acc: 0.8815 - val_loss: 1.1794 - val_acc: 0.9720\n",
            "Epoch 18/30\n",
            "100/100 [==============================] - 26s 264ms/step - loss: 0.3000 - acc: 0.8610 - val_loss: 0.4231 - val_acc: 0.9710\n",
            "Epoch 19/30\n",
            "100/100 [==============================] - 26s 264ms/step - loss: 0.2842 - acc: 0.8750 - val_loss: 3.7240e-06 - val_acc: 0.9620\n",
            "Epoch 20/30\n",
            "100/100 [==============================] - 26s 263ms/step - loss: 0.2631 - acc: 0.8920 - val_loss: 0.1189 - val_acc: 0.9700\n",
            "Epoch 21/30\n",
            "100/100 [==============================] - 26s 261ms/step - loss: 0.2689 - acc: 0.8895 - val_loss: 0.0813 - val_acc: 0.9660\n",
            "Epoch 22/30\n",
            "100/100 [==============================] - 26s 262ms/step - loss: 0.2713 - acc: 0.8870 - val_loss: 0.4132 - val_acc: 0.9700\n",
            "Epoch 23/30\n",
            "100/100 [==============================] - 26s 262ms/step - loss: 0.2988 - acc: 0.8765 - val_loss: 0.0807 - val_acc: 0.9700\n",
            "Epoch 24/30\n",
            "100/100 [==============================] - 26s 263ms/step - loss: 0.2739 - acc: 0.8860 - val_loss: 3.3728e-04 - val_acc: 0.9680\n",
            "Epoch 25/30\n",
            "100/100 [==============================] - 26s 264ms/step - loss: 0.2701 - acc: 0.8840 - val_loss: 0.5844 - val_acc: 0.9700\n",
            "Epoch 26/30\n",
            "100/100 [==============================] - 26s 263ms/step - loss: 0.2551 - acc: 0.8895 - val_loss: 0.4864 - val_acc: 0.9680\n",
            "Epoch 27/30\n",
            "100/100 [==============================] - 26s 263ms/step - loss: 0.2593 - acc: 0.8905 - val_loss: 4.1215e-05 - val_acc: 0.9740\n",
            "Epoch 28/30\n",
            "100/100 [==============================] - 26s 264ms/step - loss: 0.2762 - acc: 0.8790 - val_loss: 7.8911e-04 - val_acc: 0.9710\n",
            "Epoch 29/30\n",
            "100/100 [==============================] - 26s 263ms/step - loss: 0.2517 - acc: 0.8895 - val_loss: 1.7915e-08 - val_acc: 0.9740\n",
            "Epoch 30/30\n",
            "100/100 [==============================] - 26s 264ms/step - loss: 0.2586 - acc: 0.8915 - val_loss: 3.7320e-06 - val_acc: 0.9600\n"
          ],
          "name": "stdout"
        }
      ]
    },
    {
      "cell_type": "markdown",
      "metadata": {
        "id": "TclHFuXoRIZj",
        "colab_type": "text"
      },
      "source": [
        "# Display curves of loss and accuracy during training"
      ]
    },
    {
      "cell_type": "code",
      "metadata": {
        "id": "kCr95QySRMbu",
        "colab_type": "code",
        "colab": {
          "base_uri": "https://localhost:8080/",
          "height": 545
        },
        "outputId": "fb0a5a4b-6ec3-4965-f4f8-e4b7ecb5859f"
      },
      "source": [
        "%matplotlib inline\n",
        "\n",
        "import matplotlib.pyplot as plt\n",
        "\n",
        "acc = history.history['acc']\n",
        "val_acc = history.history['val_acc']\n",
        "\n",
        "loss = history.history['loss']\n",
        "val_loss = history.history['val_loss']\n",
        "\n",
        "epochs = range(1, len(acc) + 1)\n",
        "\n",
        "# training and validation accuracy\n",
        "\n",
        "plt.plot(epochs, acc, 'bo', label='training acc')\n",
        "plt.plot(epochs, val_acc, 'b', label='validation acc')\n",
        "plt.title('training and validation accuracy')\n",
        "plt.legend()\n",
        "\n",
        "plt.figure()\n",
        "\n",
        "# training and validation loss\n",
        "\n",
        "plt.plot(epochs, loss, 'bo', label='training loss')\n",
        "plt.plot(epochs, val_loss, 'b', label='validation loss')\n",
        "plt.title('training and validation loss')\n",
        "plt.legend()\n",
        "\n",
        "plt.show()"
      ],
      "execution_count": 10,
      "outputs": [
        {
          "output_type": "display_data",
          "data": {
            "image/png": "[encoded data removed]",
            "text/plain": [
              "<Figure size 432x288 with 1 Axes>"
            ]
          },
          "metadata": {
            "tags": [],
            "needs_background": "light"
          }
        },
        {
          "output_type": "display_data",
          "data": {
            "image/png": "[encoded data removed]",
            "text/plain": [
              "<Figure size 432x288 with 1 Axes>"
            ]
          },
          "metadata": {
            "tags": [],
            "needs_background": "light"
          }
        }
      ]
    },
    {
      "cell_type": "markdown",
      "metadata": {
        "id": "yt6ADqLHSfCL",
        "colab_type": "text"
      },
      "source": [
        "# Fine-tuning"
      ]
    },
    {
      "cell_type": "code",
      "metadata": {
        "id": "uv7Q4eQjShv-",
        "colab_type": "code",
        "colab": {}
      },
      "source": [
        "conv_base.trainable = True\n",
        "\n",
        "set_trainable = False\n",
        "for layer in conv_base.layers:\n",
        "  if layer.name == 'block1_conv1':\n",
        "    set_trainable = True\n",
        "  if set_trainable:\n",
        "    layer.trainable = True\n",
        "  else:\n",
        "    layer.trainable = False"
      ],
      "execution_count": 0,
      "outputs": []
    },
    {
      "cell_type": "code",
      "metadata": {
        "id": "9X6y98TOSq4M",
        "colab_type": "code",
        "colab": {
          "base_uri": "https://localhost:8080/",
          "height": 1000
        },
        "outputId": "7c4a8184-0b1a-4501-ecc5-4dfd2d8a7945"
      },
      "source": [
        "# compile model\n",
        "\n",
        "model.compile(\n",
        "    loss='binary_crossentropy',\n",
        "    #\n",
        "    # choose a smaller learning rate\n",
        "    #\n",
        "    optimizer=optimizers.RMSprop(lr=1e-5), \n",
        "    metrics=['acc'])\n",
        "\n",
        "# train\n",
        "\n",
        "history = model.fit_generator(\n",
        "    train_generator,\n",
        "    steps_per_epoch=100,\n",
        "    epochs=100,\n",
        "    validation_data=validation_generator,\n",
        "    validation_steps=50)"
      ],
      "execution_count": 12,
      "outputs": [
        {
          "output_type": "stream",
          "text": [
            "Epoch 1/100\n",
            "100/100 [==============================] - 79s 786ms/step - loss: 0.2561 - acc: 0.8835 - val_loss: 0.0117 - val_acc: 0.9470\n",
            "Epoch 2/100\n",
            "100/100 [==============================] - 65s 648ms/step - loss: 0.2222 - acc: 0.9105 - val_loss: 0.0714 - val_acc: 0.9380\n",
            "Epoch 3/100\n",
            "100/100 [==============================] - 65s 647ms/step - loss: 0.1913 - acc: 0.9175 - val_loss: 0.4307 - val_acc: 0.9480\n",
            "Epoch 4/100\n",
            "100/100 [==============================] - 65s 649ms/step - loss: 0.2015 - acc: 0.9165 - val_loss: 0.2088 - val_acc: 0.9430\n",
            "Epoch 5/100\n",
            "100/100 [==============================] - 65s 647ms/step - loss: 0.1878 - acc: 0.9275 - val_loss: 0.2154 - val_acc: 0.9490\n",
            "Epoch 6/100\n",
            "100/100 [==============================] - 65s 648ms/step - loss: 0.1501 - acc: 0.9360 - val_loss: 0.1437 - val_acc: 0.9450\n",
            "Epoch 7/100\n",
            "100/100 [==============================] - 65s 648ms/step - loss: 0.1435 - acc: 0.9395 - val_loss: 0.3324 - val_acc: 0.9420\n",
            "Epoch 8/100\n",
            "100/100 [==============================] - 65s 646ms/step - loss: 0.1548 - acc: 0.9395 - val_loss: 0.1798 - val_acc: 0.9540\n",
            "Epoch 9/100\n",
            "100/100 [==============================] - 65s 646ms/step - loss: 0.1352 - acc: 0.9520 - val_loss: 0.4258 - val_acc: 0.9550\n",
            "Epoch 10/100\n",
            "100/100 [==============================] - 65s 648ms/step - loss: 0.1375 - acc: 0.9495 - val_loss: 0.0054 - val_acc: 0.9550\n",
            "Epoch 11/100\n",
            "100/100 [==============================] - 65s 647ms/step - loss: 0.1336 - acc: 0.9470 - val_loss: 0.0435 - val_acc: 0.9600\n",
            "Epoch 12/100\n",
            "100/100 [==============================] - 65s 648ms/step - loss: 0.1034 - acc: 0.9570 - val_loss: 0.0120 - val_acc: 0.9610\n",
            "Epoch 13/100\n",
            "100/100 [==============================] - 65s 647ms/step - loss: 0.1296 - acc: 0.9440 - val_loss: 0.5417 - val_acc: 0.9620\n",
            "Epoch 14/100\n",
            "100/100 [==============================] - 65s 646ms/step - loss: 0.1319 - acc: 0.9540 - val_loss: 0.0242 - val_acc: 0.9650\n",
            "Epoch 15/100\n",
            "100/100 [==============================] - 65s 647ms/step - loss: 0.1202 - acc: 0.9550 - val_loss: 0.1056 - val_acc: 0.9530\n",
            "Epoch 16/100\n",
            "100/100 [==============================] - 65s 649ms/step - loss: 0.0848 - acc: 0.9670 - val_loss: 0.0249 - val_acc: 0.9580\n",
            "Epoch 17/100\n",
            "100/100 [==============================] - 65s 649ms/step - loss: 0.0885 - acc: 0.9675 - val_loss: 0.0178 - val_acc: 0.9610\n",
            "Epoch 18/100\n",
            "100/100 [==============================] - 65s 649ms/step - loss: 0.0845 - acc: 0.9680 - val_loss: 0.2754 - val_acc: 0.9630\n",
            "Epoch 19/100\n",
            "100/100 [==============================] - 65s 648ms/step - loss: 0.0897 - acc: 0.9605 - val_loss: 6.1247e-04 - val_acc: 0.9670\n",
            "Epoch 20/100\n",
            "100/100 [==============================] - 65s 647ms/step - loss: 0.0859 - acc: 0.9640 - val_loss: 0.1760 - val_acc: 0.9660\n",
            "Epoch 21/100\n",
            "100/100 [==============================] - 65s 650ms/step - loss: 0.1027 - acc: 0.9635 - val_loss: 0.5790 - val_acc: 0.9600\n",
            "Epoch 22/100\n",
            "100/100 [==============================] - 65s 646ms/step - loss: 0.0868 - acc: 0.9665 - val_loss: 0.0067 - val_acc: 0.9660\n",
            "Epoch 23/100\n",
            "100/100 [==============================] - 65s 649ms/step - loss: 0.0732 - acc: 0.9725 - val_loss: 6.8340e-04 - val_acc: 0.9700\n",
            "Epoch 24/100\n",
            "100/100 [==============================] - 65s 649ms/step - loss: 0.0674 - acc: 0.9795 - val_loss: 0.0542 - val_acc: 0.9620\n",
            "Epoch 25/100\n",
            "100/100 [==============================] - 65s 648ms/step - loss: 0.0563 - acc: 0.9760 - val_loss: 0.0340 - val_acc: 0.9680\n",
            "Epoch 26/100\n",
            "100/100 [==============================] - 65s 648ms/step - loss: 0.0665 - acc: 0.9735 - val_loss: 0.0261 - val_acc: 0.9500\n",
            "Epoch 27/100\n",
            "100/100 [==============================] - 65s 647ms/step - loss: 0.0915 - acc: 0.9755 - val_loss: 0.0094 - val_acc: 0.9460\n",
            "Epoch 28/100\n",
            "100/100 [==============================] - 65s 648ms/step - loss: 0.0767 - acc: 0.9735 - val_loss: 0.0034 - val_acc: 0.9640\n",
            "Epoch 29/100\n",
            "100/100 [==============================] - 65s 649ms/step - loss: 0.0572 - acc: 0.9805 - val_loss: 0.0653 - val_acc: 0.9650\n",
            "Epoch 30/100\n",
            "100/100 [==============================] - 65s 647ms/step - loss: 0.0629 - acc: 0.9765 - val_loss: 0.0317 - val_acc: 0.9660\n",
            "Epoch 31/100\n",
            "100/100 [==============================] - 65s 648ms/step - loss: 0.0599 - acc: 0.9785 - val_loss: 0.0701 - val_acc: 0.9690\n",
            "Epoch 32/100\n",
            "100/100 [==============================] - 65s 647ms/step - loss: 0.0698 - acc: 0.9765 - val_loss: 0.0209 - val_acc: 0.9670\n",
            "Epoch 33/100\n",
            "100/100 [==============================] - 65s 649ms/step - loss: 0.0642 - acc: 0.9765 - val_loss: 0.4354 - val_acc: 0.9650\n",
            "Epoch 34/100\n",
            "100/100 [==============================] - 65s 651ms/step - loss: 0.0542 - acc: 0.9770 - val_loss: 3.3653e-04 - val_acc: 0.9680\n",
            "Epoch 35/100\n",
            "100/100 [==============================] - 65s 649ms/step - loss: 0.0459 - acc: 0.9860 - val_loss: 0.1163 - val_acc: 0.9700\n",
            "Epoch 36/100\n",
            "100/100 [==============================] - 65s 648ms/step - loss: 0.0470 - acc: 0.9820 - val_loss: 0.0359 - val_acc: 0.9690\n",
            "Epoch 37/100\n",
            "100/100 [==============================] - 65s 649ms/step - loss: 0.0635 - acc: 0.9820 - val_loss: 0.2208 - val_acc: 0.9660\n",
            "Epoch 38/100\n",
            "100/100 [==============================] - 65s 648ms/step - loss: 0.0391 - acc: 0.9890 - val_loss: 0.0023 - val_acc: 0.9650\n",
            "Epoch 39/100\n",
            "100/100 [==============================] - 65s 648ms/step - loss: 0.0480 - acc: 0.9825 - val_loss: 0.0039 - val_acc: 0.9700\n",
            "Epoch 40/100\n",
            "100/100 [==============================] - 65s 649ms/step - loss: 0.0438 - acc: 0.9860 - val_loss: 0.0034 - val_acc: 0.9730\n",
            "Epoch 41/100\n",
            "100/100 [==============================] - 65s 649ms/step - loss: 0.0467 - acc: 0.9815 - val_loss: 0.0016 - val_acc: 0.9710\n",
            "Epoch 42/100\n",
            "100/100 [==============================] - 65s 647ms/step - loss: 0.0363 - acc: 0.9870 - val_loss: 0.2210 - val_acc: 0.9680\n",
            "Epoch 43/100\n",
            "100/100 [==============================] - 65s 648ms/step - loss: 0.0417 - acc: 0.9835 - val_loss: 0.4023 - val_acc: 0.9710\n",
            "Epoch 44/100\n",
            "100/100 [==============================] - 65s 649ms/step - loss: 0.0443 - acc: 0.9890 - val_loss: 0.2389 - val_acc: 0.9690\n",
            "Epoch 45/100\n",
            "100/100 [==============================] - 65s 648ms/step - loss: 0.0349 - acc: 0.9905 - val_loss: 0.0341 - val_acc: 0.9710\n",
            "Epoch 46/100\n",
            "100/100 [==============================] - 65s 648ms/step - loss: 0.0377 - acc: 0.9855 - val_loss: 0.0150 - val_acc: 0.9740\n",
            "Epoch 47/100\n",
            "100/100 [==============================] - 65s 648ms/step - loss: 0.0317 - acc: 0.9870 - val_loss: 0.0012 - val_acc: 0.9730\n",
            "Epoch 48/100\n",
            "100/100 [==============================] - 65s 647ms/step - loss: 0.0456 - acc: 0.9860 - val_loss: 0.0047 - val_acc: 0.9730\n",
            "Epoch 49/100\n",
            "100/100 [==============================] - 65s 648ms/step - loss: 0.0418 - acc: 0.9855 - val_loss: 0.0051 - val_acc: 0.9710\n",
            "Epoch 50/100\n",
            "100/100 [==============================] - 65s 648ms/step - loss: 0.0271 - acc: 0.9900 - val_loss: 0.1884 - val_acc: 0.9750\n",
            "Epoch 51/100\n",
            "100/100 [==============================] - 65s 646ms/step - loss: 0.0415 - acc: 0.9895 - val_loss: 0.0133 - val_acc: 0.9710\n",
            "Epoch 52/100\n",
            "100/100 [==============================] - 65s 647ms/step - loss: 0.0378 - acc: 0.9855 - val_loss: 0.4362 - val_acc: 0.9720\n",
            "Epoch 53/100\n",
            "100/100 [==============================] - 65s 645ms/step - loss: 0.0304 - acc: 0.9880 - val_loss: 0.0994 - val_acc: 0.9730\n",
            "Epoch 54/100\n",
            "100/100 [==============================] - 65s 646ms/step - loss: 0.0332 - acc: 0.9870 - val_loss: 7.7830e-05 - val_acc: 0.9750\n",
            "Epoch 55/100\n",
            "100/100 [==============================] - 65s 647ms/step - loss: 0.0272 - acc: 0.9900 - val_loss: 9.4380e-04 - val_acc: 0.9710\n",
            "Epoch 56/100\n",
            "100/100 [==============================] - 65s 646ms/step - loss: 0.0357 - acc: 0.9910 - val_loss: 2.9947e-04 - val_acc: 0.9700\n",
            "Epoch 57/100\n",
            "100/100 [==============================] - 65s 646ms/step - loss: 0.0337 - acc: 0.9860 - val_loss: 0.0027 - val_acc: 0.9730\n",
            "Epoch 58/100\n",
            "100/100 [==============================] - 64s 645ms/step - loss: 0.0328 - acc: 0.9880 - val_loss: 0.0659 - val_acc: 0.9750\n",
            "Epoch 59/100\n",
            "100/100 [==============================] - 65s 646ms/step - loss: 0.0448 - acc: 0.9850 - val_loss: 6.2816e-04 - val_acc: 0.9740\n",
            "Epoch 60/100\n",
            "100/100 [==============================] - 65s 646ms/step - loss: 0.0255 - acc: 0.9905 - val_loss: 0.2097 - val_acc: 0.9740\n",
            "Epoch 61/100\n",
            "100/100 [==============================] - 65s 646ms/step - loss: 0.0374 - acc: 0.9875 - val_loss: 0.0060 - val_acc: 0.9760\n",
            "Epoch 62/100\n",
            "100/100 [==============================] - 65s 646ms/step - loss: 0.0335 - acc: 0.9915 - val_loss: 0.0012 - val_acc: 0.9770\n",
            "Epoch 63/100\n",
            "100/100 [==============================] - 64s 645ms/step - loss: 0.0215 - acc: 0.9930 - val_loss: 0.0060 - val_acc: 0.9780\n",
            "Epoch 64/100\n",
            "100/100 [==============================] - 65s 646ms/step - loss: 0.0282 - acc: 0.9900 - val_loss: 0.7019 - val_acc: 0.9730\n",
            "Epoch 65/100\n",
            "100/100 [==============================] - 65s 645ms/step - loss: 0.0366 - acc: 0.9925 - val_loss: 0.1609 - val_acc: 0.9770\n",
            "Epoch 66/100\n",
            "100/100 [==============================] - 64s 644ms/step - loss: 0.0305 - acc: 0.9905 - val_loss: 0.0406 - val_acc: 0.9690\n",
            "Epoch 67/100\n",
            "100/100 [==============================] - 64s 645ms/step - loss: 0.0467 - acc: 0.9855 - val_loss: 4.2615e-06 - val_acc: 0.9730\n",
            "Epoch 68/100\n",
            "100/100 [==============================] - 64s 645ms/step - loss: 0.0215 - acc: 0.9950 - val_loss: 7.2347e-04 - val_acc: 0.9750\n",
            "Epoch 69/100\n",
            "100/100 [==============================] - 65s 646ms/step - loss: 0.0223 - acc: 0.9925 - val_loss: 0.0256 - val_acc: 0.9720\n",
            "Epoch 70/100\n",
            "100/100 [==============================] - 64s 643ms/step - loss: 0.0127 - acc: 0.9955 - val_loss: 0.1506 - val_acc: 0.9750\n",
            "Epoch 71/100\n",
            "100/100 [==============================] - 64s 643ms/step - loss: 0.0259 - acc: 0.9900 - val_loss: 0.0073 - val_acc: 0.9700\n",
            "Epoch 72/100\n",
            "100/100 [==============================] - 64s 643ms/step - loss: 0.0215 - acc: 0.9935 - val_loss: 0.0425 - val_acc: 0.9770\n",
            "Epoch 73/100\n",
            "100/100 [==============================] - 64s 642ms/step - loss: 0.0354 - acc: 0.9885 - val_loss: 3.3518e-04 - val_acc: 0.9750\n",
            "Epoch 74/100\n",
            "100/100 [==============================] - 64s 640ms/step - loss: 0.0278 - acc: 0.9930 - val_loss: 0.5776 - val_acc: 0.9770\n",
            "Epoch 75/100\n",
            "100/100 [==============================] - 64s 642ms/step - loss: 0.0235 - acc: 0.9915 - val_loss: 0.0303 - val_acc: 0.9780\n",
            "Epoch 76/100\n",
            "100/100 [==============================] - 64s 644ms/step - loss: 0.0289 - acc: 0.9925 - val_loss: 0.0042 - val_acc: 0.9690\n",
            "Epoch 77/100\n",
            "100/100 [==============================] - 64s 644ms/step - loss: 0.0207 - acc: 0.9930 - val_loss: 5.8577e-05 - val_acc: 0.9730\n",
            "Epoch 78/100\n",
            "100/100 [==============================] - 64s 644ms/step - loss: 0.0238 - acc: 0.9920 - val_loss: 1.6564e-04 - val_acc: 0.9790\n",
            "Epoch 79/100\n",
            "100/100 [==============================] - 64s 644ms/step - loss: 0.0251 - acc: 0.9945 - val_loss: 0.0081 - val_acc: 0.9740\n",
            "Epoch 80/100\n",
            "100/100 [==============================] - 64s 644ms/step - loss: 0.0237 - acc: 0.9900 - val_loss: 2.2016e-05 - val_acc: 0.9780\n",
            "Epoch 81/100\n",
            "100/100 [==============================] - 65s 645ms/step - loss: 0.0204 - acc: 0.9935 - val_loss: 0.1766 - val_acc: 0.9740\n",
            "Epoch 82/100\n",
            "100/100 [==============================] - 64s 644ms/step - loss: 0.0264 - acc: 0.9940 - val_loss: 0.0020 - val_acc: 0.9760\n",
            "Epoch 83/100\n",
            "100/100 [==============================] - 64s 644ms/step - loss: 0.0217 - acc: 0.9925 - val_loss: 6.9737e-05 - val_acc: 0.9780\n",
            "Epoch 84/100\n",
            "100/100 [==============================] - 64s 644ms/step - loss: 0.0173 - acc: 0.9930 - val_loss: 5.7213e-06 - val_acc: 0.9770\n",
            "Epoch 85/100\n",
            "100/100 [==============================] - 64s 644ms/step - loss: 0.0170 - acc: 0.9940 - val_loss: 5.9181e-04 - val_acc: 0.9760\n",
            "Epoch 86/100\n",
            "100/100 [==============================] - 64s 644ms/step - loss: 0.0262 - acc: 0.9930 - val_loss: 0.0060 - val_acc: 0.9750\n",
            "Epoch 87/100\n",
            "100/100 [==============================] - 64s 645ms/step - loss: 0.0241 - acc: 0.9935 - val_loss: 0.1252 - val_acc: 0.9750\n",
            "Epoch 88/100\n",
            "100/100 [==============================] - 65s 646ms/step - loss: 0.0370 - acc: 0.9905 - val_loss: 0.2198 - val_acc: 0.9750\n",
            "Epoch 89/100\n",
            "100/100 [==============================] - 65s 647ms/step - loss: 0.0113 - acc: 0.9965 - val_loss: 0.0049 - val_acc: 0.9740\n",
            "Epoch 90/100\n",
            "100/100 [==============================] - 65s 647ms/step - loss: 0.0350 - acc: 0.9895 - val_loss: 0.0019 - val_acc: 0.9730\n",
            "Epoch 91/100\n",
            "100/100 [==============================] - 65s 647ms/step - loss: 0.0134 - acc: 0.9970 - val_loss: 0.3148 - val_acc: 0.9570\n",
            "Epoch 92/100\n",
            "100/100 [==============================] - 65s 646ms/step - loss: 0.0158 - acc: 0.9945 - val_loss: 8.9388e-04 - val_acc: 0.9710\n",
            "Epoch 93/100\n",
            "100/100 [==============================] - 65s 646ms/step - loss: 0.0131 - acc: 0.9960 - val_loss: 0.0019 - val_acc: 0.9750\n",
            "Epoch 94/100\n",
            "100/100 [==============================] - 64s 645ms/step - loss: 0.0275 - acc: 0.9910 - val_loss: 0.0038 - val_acc: 0.9750\n",
            "Epoch 95/100\n",
            "100/100 [==============================] - 65s 647ms/step - loss: 0.0183 - acc: 0.9940 - val_loss: 0.0046 - val_acc: 0.9740\n",
            "Epoch 96/100\n",
            "100/100 [==============================] - 65s 647ms/step - loss: 0.0349 - acc: 0.9900 - val_loss: 0.0450 - val_acc: 0.9740\n",
            "Epoch 97/100\n",
            "100/100 [==============================] - 65s 646ms/step - loss: 0.0114 - acc: 0.9960 - val_loss: 2.1315e-06 - val_acc: 0.9720\n",
            "Epoch 98/100\n",
            "100/100 [==============================] - 65s 646ms/step - loss: 0.0194 - acc: 0.9935 - val_loss: 0.0808 - val_acc: 0.9790\n",
            "Epoch 99/100\n",
            "100/100 [==============================] - 65s 646ms/step - loss: 0.0146 - acc: 0.9960 - val_loss: 0.0069 - val_acc: 0.9790\n",
            "Epoch 100/100\n",
            "100/100 [==============================] - 65s 646ms/step - loss: 0.0225 - acc: 0.9945 - val_loss: 0.0037 - val_acc: 0.9760\n"
          ],
          "name": "stdout"
        }
      ]
    },
    {
      "cell_type": "markdown",
      "metadata": {
        "id": "FD47CPygSz8q",
        "colab_type": "text"
      },
      "source": [
        "# Display learning curves during fine-tuning"
      ]
    },
    {
      "cell_type": "code",
      "metadata": {
        "id": "gox1eVDqSwpc",
        "colab_type": "code",
        "colab": {
          "base_uri": "https://localhost:8080/",
          "height": 545
        },
        "outputId": "c02dccbd-5034-4df9-ced0-de78eb7864b6"
      },
      "source": [
        "%matplotlib inline\n",
        "\n",
        "import matplotlib.pyplot as plt\n",
        "\n",
        "acc = history.history['acc']\n",
        "val_acc = history.history['val_acc']\n",
        "\n",
        "loss = history.history['loss']\n",
        "val_loss = history.history['val_loss']\n",
        "\n",
        "epochs = range(1, len(acc) + 1)\n",
        "\n",
        "# training and validation accuracy\n",
        "\n",
        "plt.plot(epochs, acc, 'bo', label='training acc')\n",
        "plt.plot(epochs, val_acc, 'b', label='validation acc')\n",
        "plt.title('training and validation accuracy')\n",
        "plt.legend()\n",
        "\n",
        "plt.figure()\n",
        "\n",
        "# training and validation loss\n",
        "\n",
        "plt.plot(epochs, loss, 'bo', label='training loss')\n",
        "plt.plot(epochs, val_loss, 'b', label='validation loss')\n",
        "plt.title('training and validation loss')\n",
        "plt.legend()\n",
        "\n",
        "plt.show()"
      ],
      "execution_count": 13,
      "outputs": [
        {
          "output_type": "display_data",
          "data": {
            "image/png": "[encoded data removed]",
            "text/plain": [
              "<Figure size 432x288 with 1 Axes>"
            ]
          },
          "metadata": {
            "tags": [],
            "needs_background": "light"
          }
        },
        {
          "output_type": "display_data",
          "data": {
            "image/png": "[encoded data removed]",
            "text/plain": [
              "<Figure size 432x288 with 1 Axes>"
            ]
          },
          "metadata": {
            "tags": [],
            "needs_background": "light"
          }
        }
      ]
    },
    {
      "cell_type": "markdown",
      "metadata": {
        "id": "xNwFKfaoS-Y6",
        "colab_type": "text"
      },
      "source": [
        "This looks like overfitting. I should try adding dropout for the densely connected layer."
      ]
    },
    {
      "cell_type": "markdown",
      "metadata": {
        "id": "34BqQeXFTAsO",
        "colab_type": "text"
      },
      "source": [
        "# Print out validation loss and accuracy"
      ]
    },
    {
      "cell_type": "code",
      "metadata": {
        "id": "rxbiGuB5TDa6",
        "colab_type": "code",
        "colab": {}
      },
      "source": [
        "val_loss, val_acc = model.evaluate_generator(validation_generator, steps=50)"
      ],
      "execution_count": 0,
      "outputs": []
    },
    {
      "cell_type": "code",
      "metadata": {
        "id": "ALPiENafTFF5",
        "colab_type": "code",
        "colab": {
          "base_uri": "https://localhost:8080/",
          "height": 51
        },
        "outputId": "fbf02b9a-31ec-43d5-a149-92d22293511c"
      },
      "source": [
        "print(\"Validation loss:\", val_loss)\n",
        "print(\"Validation accuracy:\", val_acc)"
      ],
      "execution_count": 15,
      "outputs": [
        {
          "output_type": "stream",
          "text": [
            "Validation loss: 0.1199221983551979\n",
            "Validation accuracy: 0.9760000109672546\n"
          ],
          "name": "stdout"
        }
      ]
    },
    {
      "cell_type": "markdown",
      "metadata": {
        "id": "P2sWNe9fTG2a",
        "colab_type": "text"
      },
      "source": [
        "# Save the model"
      ]
    },
    {
      "cell_type": "code",
      "metadata": {
        "id": "-rvxfqMRTIdy",
        "colab_type": "code",
        "colab": {}
      },
      "source": [
        "model_fname = 'cats_and_dogs_small_4.h5' \n",
        "model.save(model_fname)"
      ],
      "execution_count": 0,
      "outputs": []
    },
    {
      "cell_type": "code",
      "metadata": {
        "id": "L3TlsdVlTKRg",
        "colab_type": "code",
        "colab": {
          "base_uri": "https://localhost:8080/",
          "height": 867
        },
        "outputId": "a2ce2ac0-2483-48ae-d6dc-177cffc7726c"
      },
      "source": [
        "from google.colab import files\n",
        "\n",
        "with open(model_fname, 'r') as f:\n",
        "  files.download(model_fname)"
      ],
      "execution_count": 21,
      "outputs": [
        {
          "output_type": "stream",
          "text": [
            "----------------------------------------\n",
            "Exception happened during processing of request from ('::ffff:127.0.0.1', 48414, 0, 0)\n",
            "Traceback (most recent call last):\n",
            "  File \"/usr/lib/python3.6/socketserver.py\", line 320, in _handle_request_noblock\n",
            "    self.process_request(request, client_address)\n",
            "  File \"/usr/lib/python3.6/socketserver.py\", line 351, in process_request\n",
            "    self.finish_request(request, client_address)\n",
            "  File \"/usr/lib/python3.6/socketserver.py\", line 364, in finish_request\n",
            "    self.RequestHandlerClass(request, client_address, self)\n",
            "  File \"/usr/lib/python3.6/socketserver.py\", line 724, in __init__\n",
            "    self.handle()\n",
            "  File \"/usr/lib/python3.6/http/server.py\", line 418, in handle\n",
            "    self.handle_one_request()\n",
            "  File \"/usr/lib/python3.6/http/server.py\", line 406, in handle_one_request\n",
            "    method()\n",
            "  File \"/usr/lib/python3.6/http/server.py\", line 639, in do_GET\n",
            "    self.copyfile(f, self.wfile)\n",
            "  File \"/usr/lib/python3.6/http/server.py\", line 800, in copyfile\n",
            "    shutil.copyfileobj(source, outputfile)\n",
            "  File \"/usr/lib/python3.6/shutil.py\", line 82, in copyfileobj\n",
            "    fdst.write(buf)\n",
            "  File \"/usr/lib/python3.6/socketserver.py\", line 803, in write\n",
            "    self._sock.sendall(b)\n",
            "ConnectionResetError: [Errno 104] Connection reset by peer\n",
            "----------------------------------------\n",
            "----------------------------------------\n",
            "Exception happened during processing of request from ('::ffff:127.0.0.1', 52534, 0, 0)\n",
            "Traceback (most recent call last):\n",
            "  File \"/usr/lib/python3.6/socketserver.py\", line 320, in _handle_request_noblock\n",
            "    self.process_request(request, client_address)\n",
            "  File \"/usr/lib/python3.6/socketserver.py\", line 351, in process_request\n",
            "    self.finish_request(request, client_address)\n",
            "  File \"/usr/lib/python3.6/socketserver.py\", line 364, in finish_request\n",
            "    self.RequestHandlerClass(request, client_address, self)\n",
            "  File \"/usr/lib/python3.6/socketserver.py\", line 724, in __init__\n",
            "    self.handle()\n",
            "  File \"/usr/lib/python3.6/http/server.py\", line 418, in handle\n",
            "    self.handle_one_request()\n",
            "  File \"/usr/lib/python3.6/http/server.py\", line 406, in handle_one_request\n",
            "    method()\n",
            "  File \"/usr/lib/python3.6/http/server.py\", line 639, in do_GET\n",
            "    self.copyfile(f, self.wfile)\n",
            "  File \"/usr/lib/python3.6/http/server.py\", line 800, in copyfile\n",
            "    shutil.copyfileobj(source, outputfile)\n",
            "  File \"/usr/lib/python3.6/shutil.py\", line 82, in copyfileobj\n",
            "    fdst.write(buf)\n",
            "  File \"/usr/lib/python3.6/socketserver.py\", line 803, in write\n",
            "    self._sock.sendall(b)\n",
            "ConnectionResetError: [Errno 104] Connection reset by peer\n",
            "----------------------------------------\n"
          ],
          "name": "stderr"
        }
      ]
    }
  ]
}