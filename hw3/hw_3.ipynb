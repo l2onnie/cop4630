{
  "nbformat": 4,
  "nbformat_minor": 0,
  "metadata": {
    "colab": {
      "name": "hw_3",
      "provenance": [],
      "collapsed_sections": [],
      "authorship_tag": "ABX9TyPM9/QbcQZivdhO4yD8tL/X",
      "include_colab_link": true
    },
    "kernelspec": {
      "name": "python3",
      "display_name": "Python 3"
    }
  },
  "cells": [
    {
      "cell_type": "markdown",
      "metadata": {
        "id": "view-in-github",
        "colab_type": "text"
      },
      "source": [
        "<a href=\"https://colab.research.google.com/github/l2onnie/cop4630/blob/master/hw3/hw_3.ipynb\" target=\"_parent\"><img src=\"https://colab.research.google.com/assets/colab-badge.svg\" alt=\"Open In Colab\"/></a>"
      ]
    },
    {
      "cell_type": "markdown",
      "metadata": {
        "id": "PkofKnI0MHal",
        "colab_type": "text"
      },
      "source": [
        "# Problem one"
      ]
    },
    {
      "cell_type": "markdown",
      "metadata": {
        "id": "VfNsImaiM63o",
        "colab_type": "text"
      },
      "source": [
        "Import libraries"
      ]
    },
    {
      "cell_type": "code",
      "metadata": {
        "id": "6XfplRFuMaBy",
        "colab_type": "code",
        "colab": {}
      },
      "source": [
        "import numpy as np\n",
        "import matplotlib.pyplot as plt\n",
        "from mpl_toolkits import mplot3d\n",
        "%matplotlib inline"
      ],
      "execution_count": 0,
      "outputs": []
    },
    {
      "cell_type": "markdown",
      "metadata": {
        "id": "wPT3cDDgM9kw",
        "colab_type": "text"
      },
      "source": [
        "Implementation of the function get_random_data(w, b, mu, sigma, m) that generates random data for logisitic regression with two features features x_1 and x_2. This function should return the array data of shape (m, 2) and the array labels of shape (m, 1)."
      ]
    },
    {
      "cell_type": "code",
      "metadata": {
        "id": "a731nvWADvNy",
        "colab_type": "code",
        "colab": {}
      },
      "source": [
        "def get_random_data(w, b, mu, sigma, m):\n",
        "\n",
        "  # labels with 50% chance\n",
        "  c = np.random.randint(2, size=m)\n",
        "  # choosing noise\n",
        "  n = np.random.normal(mu, sigma, m)\n",
        "  # feature 1\n",
        "  x_1 = np.random.rand(m)\n",
        "\n",
        "  #setting 2nd feature\n",
        "  x_2 = np.empty(shape=(m,))\n",
        "  for x in range(0,m):\n",
        "    x_2[x] = w * x_1[x] + b + (-1)**c[x] * n[x]\n",
        "\n",
        "  data = np.column_stack([x_1, x_2])\n",
        "\n",
        "  return (data, c)"
      ],
      "execution_count": 0,
      "outputs": []
    },
    {
      "cell_type": "markdown",
      "metadata": {
        "id": "_nK4MOap6Smd",
        "colab_type": "text"
      },
      "source": [
        "Function that plot the data"
      ]
    },
    {
      "cell_type": "code",
      "metadata": {
        "id": "pDawwb-p6Eyu",
        "colab_type": "code",
        "colab": {}
      },
      "source": [
        "def display_random_data(data, labels):\n",
        "  for lb, point in zip(labels, data):\n",
        "    plt.scatter(point[0], point[1], color = ('red' if lb == 1 else 'blue') )\n",
        "  plt.show()"
      ],
      "execution_count": 0,
      "outputs": []
    },
    {
      "cell_type": "markdown",
      "metadata": {
        "id": "0CzB_WUEDCSO",
        "colab_type": "text"
      },
      "source": [
        "Generate random data and plot them then create training and test set"
      ]
    },
    {
      "cell_type": "code",
      "metadata": {
        "id": "8ILASkuBDF7W",
        "colab_type": "code",
        "outputId": "0288adaf-e575-43b6-cb86-b17a4f1cc595",
        "colab": {
          "base_uri": "https://localhost:8080/",
          "height": 265
        }
      },
      "source": [
        "# generate and plot data\n",
        "m = 5000\n",
        "data, labels = get_random_data(6,6,3,3,m)\n",
        "display_random_data(data, labels)\n",
        "\n",
        "# create train and test set\n",
        "split = (int)(m*0.8)\n",
        "#training set 80%\n",
        "train_data = data[:split]\n",
        "train_label = labels[:split]\n",
        "\n",
        "#test set 20%\n",
        "test_data = data[split:]\n",
        "test_label = labels[split:]"
      ],
      "execution_count": 6,
      "outputs": [
        {
          "output_type": "display_data",
          "data": {
            "image/png": "[encoded data removed]",
            "text/plain": [
              "<Figure size 432x288 with 1 Axes>"
            ]
          },
          "metadata": {
            "tags": []
          }
        }
      ]
    },
    {
      "cell_type": "markdown",
      "metadata": {
        "id": "AL9xuHxpQiRt",
        "colab_type": "text"
      },
      "source": [
        "\n",
        "\n",
        "---\n",
        "\n",
        "\n",
        "\n",
        "---\n",
        "# Problem 2\n"
      ]
    },
    {
      "cell_type": "markdown",
      "metadata": {
        "id": "m6UiXmmjkO_x",
        "colab_type": "text"
      },
      "source": [
        "Import libaries"
      ]
    },
    {
      "cell_type": "code",
      "metadata": {
        "id": "T5UOwSCTZhpI",
        "colab_type": "code",
        "colab": {}
      },
      "source": [
        "%tensorflow_version 2.x\n",
        "import tensorflow as tf\n",
        "from tensorflow.keras.models import Sequential\n",
        "from tensorflow.keras.layers import Dense\n",
        "import pandas as pd\n",
        "import matplotlib.pyplot as plt\n",
        "from matplotlib.ticker import (AutoMinorLocator, MultipleLocator)"
      ],
      "execution_count": 0,
      "outputs": []
    },
    {
      "cell_type": "markdown",
      "metadata": {
        "id": "VqStg6FWeH2G",
        "colab_type": "text"
      },
      "source": [
        "Build and compile model and train it"
      ]
    },
    {
      "cell_type": "code",
      "metadata": {
        "id": "DXQTwf0WeKGD",
        "colab_type": "code",
        "outputId": "c42b974e-aa25-4aa7-ee8c-8f26dbdfab66",
        "colab": {
          "base_uri": "https://localhost:8080/",
          "height": 1000
        }
      },
      "source": [
        "#build model\n",
        "model = Sequential()\n",
        "model.add(Dense(1, activation='sigmoid', input_shape=(2,)))\n",
        "#compile model\n",
        "model.compile(optimizer=tf.keras.optimizers.RMSprop(lr=0.002), loss='binary_crossentropy', metrics=['accuracy'])\n",
        "model.summary()\n",
        "#train model\n",
        "history = model.fit(train_data, train_label, epochs=250, batch_size=512, validation_data=(test_data, test_label))"
      ],
      "execution_count": 8,
      "outputs": [
        {
          "output_type": "stream",
          "text": [
            "Model: \"sequential\"\n",
            "_________________________________________________________________\n",
            "Layer (type)                 Output Shape              Param #   \n",
            "=================================================================\n",
            "dense (Dense)                (None, 1)                 3         \n",
            "=================================================================\n",
            "Total params: 3\n",
            "Trainable params: 3\n",
            "Non-trainable params: 0\n",
            "_________________________________________________________________\n",
            "Epoch 1/250\n",
            "8/8 [==============================] - 0s 20ms/step - loss: 2.8726 - accuracy: 0.5163 - val_loss: 2.6865 - val_accuracy: 0.5350\n",
            "Epoch 2/250\n",
            "8/8 [==============================] - 0s 5ms/step - loss: 2.7883 - accuracy: 0.5167 - val_loss: 2.6189 - val_accuracy: 0.5350\n",
            "Epoch 3/250\n",
            "8/8 [==============================] - 0s 4ms/step - loss: 2.7141 - accuracy: 0.5173 - val_loss: 2.5589 - val_accuracy: 0.5350\n",
            "Epoch 4/250\n",
            "8/8 [==============================] - 0s 4ms/step - loss: 2.6574 - accuracy: 0.5173 - val_loss: 2.5006 - val_accuracy: 0.5350\n",
            "Epoch 5/250\n",
            "8/8 [==============================] - 0s 4ms/step - loss: 2.5899 - accuracy: 0.5175 - val_loss: 2.4435 - val_accuracy: 0.5350\n",
            "Epoch 6/250\n",
            "8/8 [==============================] - 0s 4ms/step - loss: 2.5352 - accuracy: 0.5178 - val_loss: 2.3864 - val_accuracy: 0.5360\n",
            "Epoch 7/250\n",
            "8/8 [==============================] - 0s 5ms/step - loss: 2.4751 - accuracy: 0.5178 - val_loss: 2.3294 - val_accuracy: 0.5360\n",
            "Epoch 8/250\n",
            "8/8 [==============================] - 0s 4ms/step - loss: 2.4126 - accuracy: 0.5178 - val_loss: 2.2730 - val_accuracy: 0.5360\n",
            "Epoch 9/250\n",
            "8/8 [==============================] - 0s 5ms/step - loss: 2.3571 - accuracy: 0.5182 - val_loss: 2.2166 - val_accuracy: 0.5360\n",
            "Epoch 10/250\n",
            "8/8 [==============================] - 0s 5ms/step - loss: 2.2975 - accuracy: 0.5185 - val_loss: 2.1601 - val_accuracy: 0.5380\n",
            "Epoch 11/250\n",
            "8/8 [==============================] - 0s 4ms/step - loss: 2.2362 - accuracy: 0.5188 - val_loss: 2.1040 - val_accuracy: 0.5380\n",
            "Epoch 12/250\n",
            "8/8 [==============================] - 0s 5ms/step - loss: 2.1742 - accuracy: 0.5190 - val_loss: 2.0480 - val_accuracy: 0.5390\n",
            "Epoch 13/250\n",
            "8/8 [==============================] - 0s 4ms/step - loss: 2.1171 - accuracy: 0.5197 - val_loss: 1.9920 - val_accuracy: 0.5390\n",
            "Epoch 14/250\n",
            "8/8 [==============================] - 0s 5ms/step - loss: 2.0565 - accuracy: 0.5203 - val_loss: 1.9365 - val_accuracy: 0.5390\n",
            "Epoch 15/250\n",
            "8/8 [==============================] - 0s 5ms/step - loss: 2.0038 - accuracy: 0.5207 - val_loss: 1.8807 - val_accuracy: 0.5390\n",
            "Epoch 16/250\n",
            "8/8 [==============================] - 0s 4ms/step - loss: 1.9452 - accuracy: 0.5215 - val_loss: 1.8253 - val_accuracy: 0.5400\n",
            "Epoch 17/250\n",
            "8/8 [==============================] - 0s 5ms/step - loss: 1.8871 - accuracy: 0.5222 - val_loss: 1.7698 - val_accuracy: 0.5400\n",
            "Epoch 18/250\n",
            "8/8 [==============================] - 0s 5ms/step - loss: 1.8300 - accuracy: 0.5222 - val_loss: 1.7149 - val_accuracy: 0.5410\n",
            "Epoch 19/250\n",
            "8/8 [==============================] - 0s 5ms/step - loss: 1.7708 - accuracy: 0.5228 - val_loss: 1.6605 - val_accuracy: 0.5410\n",
            "Epoch 20/250\n",
            "8/8 [==============================] - 0s 4ms/step - loss: 1.7152 - accuracy: 0.5232 - val_loss: 1.6061 - val_accuracy: 0.5430\n",
            "Epoch 21/250\n",
            "8/8 [==============================] - 0s 5ms/step - loss: 1.6557 - accuracy: 0.5242 - val_loss: 1.5521 - val_accuracy: 0.5440\n",
            "Epoch 22/250\n",
            "8/8 [==============================] - 0s 5ms/step - loss: 1.5982 - accuracy: 0.5250 - val_loss: 1.4986 - val_accuracy: 0.5450\n",
            "Epoch 23/250\n",
            "8/8 [==============================] - 0s 4ms/step - loss: 1.5434 - accuracy: 0.5263 - val_loss: 1.4454 - val_accuracy: 0.5490\n",
            "Epoch 24/250\n",
            "8/8 [==============================] - 0s 5ms/step - loss: 1.4865 - accuracy: 0.5270 - val_loss: 1.3923 - val_accuracy: 0.5500\n",
            "Epoch 25/250\n",
            "8/8 [==============================] - 0s 5ms/step - loss: 1.4326 - accuracy: 0.5280 - val_loss: 1.3397 - val_accuracy: 0.5510\n",
            "Epoch 26/250\n",
            "8/8 [==============================] - 0s 4ms/step - loss: 1.3740 - accuracy: 0.5305 - val_loss: 1.2881 - val_accuracy: 0.5530\n",
            "Epoch 27/250\n",
            "8/8 [==============================] - 0s 5ms/step - loss: 1.3221 - accuracy: 0.5318 - val_loss: 1.2366 - val_accuracy: 0.5550\n",
            "Epoch 28/250\n",
            "8/8 [==============================] - 0s 5ms/step - loss: 1.2672 - accuracy: 0.5332 - val_loss: 1.1864 - val_accuracy: 0.5570\n",
            "Epoch 29/250\n",
            "8/8 [==============================] - 0s 5ms/step - loss: 1.2153 - accuracy: 0.5335 - val_loss: 1.1365 - val_accuracy: 0.5570\n",
            "Epoch 30/250\n",
            "8/8 [==============================] - 0s 4ms/step - loss: 1.1643 - accuracy: 0.5353 - val_loss: 1.0872 - val_accuracy: 0.5590\n",
            "Epoch 31/250\n",
            "8/8 [==============================] - 0s 5ms/step - loss: 1.1101 - accuracy: 0.5370 - val_loss: 1.0392 - val_accuracy: 0.5650\n",
            "Epoch 32/250\n",
            "8/8 [==============================] - 0s 4ms/step - loss: 1.0629 - accuracy: 0.5390 - val_loss: 0.9921 - val_accuracy: 0.5660\n",
            "Epoch 33/250\n",
            "8/8 [==============================] - 0s 4ms/step - loss: 1.0131 - accuracy: 0.5418 - val_loss: 0.9461 - val_accuracy: 0.5710\n",
            "Epoch 34/250\n",
            "8/8 [==============================] - 0s 4ms/step - loss: 0.9652 - accuracy: 0.5447 - val_loss: 0.9015 - val_accuracy: 0.5740\n",
            "Epoch 35/250\n",
            "8/8 [==============================] - 0s 4ms/step - loss: 0.9188 - accuracy: 0.5465 - val_loss: 0.8589 - val_accuracy: 0.5750\n",
            "Epoch 36/250\n",
            "8/8 [==============================] - 0s 4ms/step - loss: 0.8741 - accuracy: 0.5502 - val_loss: 0.8179 - val_accuracy: 0.5800\n",
            "Epoch 37/250\n",
            "8/8 [==============================] - 0s 5ms/step - loss: 0.8312 - accuracy: 0.5540 - val_loss: 0.7787 - val_accuracy: 0.5860\n",
            "Epoch 38/250\n",
            "8/8 [==============================] - 0s 4ms/step - loss: 0.7911 - accuracy: 0.5592 - val_loss: 0.7419 - val_accuracy: 0.5870\n",
            "Epoch 39/250\n",
            "8/8 [==============================] - 0s 5ms/step - loss: 0.7515 - accuracy: 0.5648 - val_loss: 0.7074 - val_accuracy: 0.5910\n",
            "Epoch 40/250\n",
            "8/8 [==============================] - 0s 5ms/step - loss: 0.7180 - accuracy: 0.5732 - val_loss: 0.6755 - val_accuracy: 0.5980\n",
            "Epoch 41/250\n",
            "8/8 [==============================] - 0s 4ms/step - loss: 0.6853 - accuracy: 0.5828 - val_loss: 0.6466 - val_accuracy: 0.6120\n",
            "Epoch 42/250\n",
            "8/8 [==============================] - 0s 4ms/step - loss: 0.6547 - accuracy: 0.5950 - val_loss: 0.6211 - val_accuracy: 0.6260\n",
            "Epoch 43/250\n",
            "8/8 [==============================] - 0s 5ms/step - loss: 0.6290 - accuracy: 0.6090 - val_loss: 0.5996 - val_accuracy: 0.6370\n",
            "Epoch 44/250\n",
            "8/8 [==============================] - 0s 4ms/step - loss: 0.6063 - accuracy: 0.6220 - val_loss: 0.5820 - val_accuracy: 0.6510\n",
            "Epoch 45/250\n",
            "8/8 [==============================] - 0s 4ms/step - loss: 0.5896 - accuracy: 0.6365 - val_loss: 0.5683 - val_accuracy: 0.6750\n",
            "Epoch 46/250\n",
            "8/8 [==============================] - 0s 5ms/step - loss: 0.5763 - accuracy: 0.6545 - val_loss: 0.5582 - val_accuracy: 0.7000\n",
            "Epoch 47/250\n",
            "8/8 [==============================] - 0s 5ms/step - loss: 0.5654 - accuracy: 0.6775 - val_loss: 0.5516 - val_accuracy: 0.7260\n",
            "Epoch 48/250\n",
            "8/8 [==============================] - 0s 4ms/step - loss: 0.5584 - accuracy: 0.7038 - val_loss: 0.5480 - val_accuracy: 0.7370\n",
            "Epoch 49/250\n",
            "8/8 [==============================] - 0s 4ms/step - loss: 0.5551 - accuracy: 0.7165 - val_loss: 0.5459 - val_accuracy: 0.7530\n",
            "Epoch 50/250\n",
            "8/8 [==============================] - 0s 4ms/step - loss: 0.5522 - accuracy: 0.7293 - val_loss: 0.5443 - val_accuracy: 0.7620\n",
            "Epoch 51/250\n",
            "8/8 [==============================] - 0s 4ms/step - loss: 0.5510 - accuracy: 0.7365 - val_loss: 0.5426 - val_accuracy: 0.7670\n",
            "Epoch 52/250\n",
            "8/8 [==============================] - 0s 4ms/step - loss: 0.5483 - accuracy: 0.7415 - val_loss: 0.5407 - val_accuracy: 0.7700\n",
            "Epoch 53/250\n",
            "8/8 [==============================] - 0s 4ms/step - loss: 0.5461 - accuracy: 0.7498 - val_loss: 0.5381 - val_accuracy: 0.7660\n",
            "Epoch 54/250\n",
            "8/8 [==============================] - 0s 4ms/step - loss: 0.5439 - accuracy: 0.7473 - val_loss: 0.5360 - val_accuracy: 0.7680\n",
            "Epoch 55/250\n",
            "8/8 [==============================] - 0s 4ms/step - loss: 0.5411 - accuracy: 0.7548 - val_loss: 0.5338 - val_accuracy: 0.7700\n",
            "Epoch 56/250\n",
            "8/8 [==============================] - 0s 5ms/step - loss: 0.5392 - accuracy: 0.7545 - val_loss: 0.5317 - val_accuracy: 0.7700\n",
            "Epoch 57/250\n",
            "8/8 [==============================] - 0s 4ms/step - loss: 0.5375 - accuracy: 0.7558 - val_loss: 0.5298 - val_accuracy: 0.7740\n",
            "Epoch 58/250\n",
            "8/8 [==============================] - 0s 4ms/step - loss: 0.5349 - accuracy: 0.7598 - val_loss: 0.5277 - val_accuracy: 0.7780\n",
            "Epoch 59/250\n",
            "8/8 [==============================] - 0s 4ms/step - loss: 0.5329 - accuracy: 0.7607 - val_loss: 0.5258 - val_accuracy: 0.7820\n",
            "Epoch 60/250\n",
            "8/8 [==============================] - 0s 4ms/step - loss: 0.5307 - accuracy: 0.7670 - val_loss: 0.5236 - val_accuracy: 0.7800\n",
            "Epoch 61/250\n",
            "8/8 [==============================] - 0s 4ms/step - loss: 0.5292 - accuracy: 0.7630 - val_loss: 0.5219 - val_accuracy: 0.7840\n",
            "Epoch 62/250\n",
            "8/8 [==============================] - 0s 4ms/step - loss: 0.5265 - accuracy: 0.7692 - val_loss: 0.5196 - val_accuracy: 0.7820\n",
            "Epoch 63/250\n",
            "8/8 [==============================] - 0s 4ms/step - loss: 0.5245 - accuracy: 0.7713 - val_loss: 0.5175 - val_accuracy: 0.7820\n",
            "Epoch 64/250\n",
            "8/8 [==============================] - 0s 4ms/step - loss: 0.5224 - accuracy: 0.7688 - val_loss: 0.5156 - val_accuracy: 0.7850\n",
            "Epoch 65/250\n",
            "8/8 [==============================] - 0s 5ms/step - loss: 0.5202 - accuracy: 0.7740 - val_loss: 0.5135 - val_accuracy: 0.7840\n",
            "Epoch 66/250\n",
            "8/8 [==============================] - 0s 5ms/step - loss: 0.5183 - accuracy: 0.7753 - val_loss: 0.5117 - val_accuracy: 0.7840\n",
            "Epoch 67/250\n",
            "8/8 [==============================] - 0s 4ms/step - loss: 0.5164 - accuracy: 0.7763 - val_loss: 0.5099 - val_accuracy: 0.7840\n",
            "Epoch 68/250\n",
            "8/8 [==============================] - 0s 4ms/step - loss: 0.5148 - accuracy: 0.7785 - val_loss: 0.5083 - val_accuracy: 0.7890\n",
            "Epoch 69/250\n",
            "8/8 [==============================] - 0s 4ms/step - loss: 0.5128 - accuracy: 0.7805 - val_loss: 0.5068 - val_accuracy: 0.7910\n",
            "Epoch 70/250\n",
            "8/8 [==============================] - 0s 4ms/step - loss: 0.5102 - accuracy: 0.7872 - val_loss: 0.5044 - val_accuracy: 0.7880\n",
            "Epoch 71/250\n",
            "8/8 [==============================] - 0s 4ms/step - loss: 0.5087 - accuracy: 0.7843 - val_loss: 0.5029 - val_accuracy: 0.7910\n",
            "Epoch 72/250\n",
            "8/8 [==============================] - 0s 5ms/step - loss: 0.5061 - accuracy: 0.7920 - val_loss: 0.5008 - val_accuracy: 0.7890\n",
            "Epoch 73/250\n",
            "8/8 [==============================] - 0s 5ms/step - loss: 0.5051 - accuracy: 0.7857 - val_loss: 0.4994 - val_accuracy: 0.7930\n",
            "Epoch 74/250\n",
            "8/8 [==============================] - 0s 5ms/step - loss: 0.5030 - accuracy: 0.7947 - val_loss: 0.4975 - val_accuracy: 0.7930\n",
            "Epoch 75/250\n",
            "8/8 [==============================] - 0s 5ms/step - loss: 0.5012 - accuracy: 0.7918 - val_loss: 0.4957 - val_accuracy: 0.7930\n",
            "Epoch 76/250\n",
            "8/8 [==============================] - 0s 17ms/step - loss: 0.4997 - accuracy: 0.7915 - val_loss: 0.4941 - val_accuracy: 0.7960\n",
            "Epoch 77/250\n",
            "8/8 [==============================] - 0s 5ms/step - loss: 0.4983 - accuracy: 0.7925 - val_loss: 0.4926 - val_accuracy: 0.8000\n",
            "Epoch 78/250\n",
            "8/8 [==============================] - 0s 4ms/step - loss: 0.4959 - accuracy: 0.7993 - val_loss: 0.4906 - val_accuracy: 0.7970\n",
            "Epoch 79/250\n",
            "8/8 [==============================] - 0s 4ms/step - loss: 0.4943 - accuracy: 0.7940 - val_loss: 0.4891 - val_accuracy: 0.7990\n",
            "Epoch 80/250\n",
            "8/8 [==============================] - 0s 4ms/step - loss: 0.4928 - accuracy: 0.7955 - val_loss: 0.4875 - val_accuracy: 0.8010\n",
            "Epoch 81/250\n",
            "8/8 [==============================] - 0s 4ms/step - loss: 0.4907 - accuracy: 0.7985 - val_loss: 0.4862 - val_accuracy: 0.8040\n",
            "Epoch 82/250\n",
            "8/8 [==============================] - 0s 4ms/step - loss: 0.4897 - accuracy: 0.8020 - val_loss: 0.4846 - val_accuracy: 0.8030\n",
            "Epoch 83/250\n",
            "8/8 [==============================] - 0s 4ms/step - loss: 0.4871 - accuracy: 0.8067 - val_loss: 0.4825 - val_accuracy: 0.7980\n",
            "Epoch 84/250\n",
            "8/8 [==============================] - 0s 5ms/step - loss: 0.4858 - accuracy: 0.8030 - val_loss: 0.4811 - val_accuracy: 0.8030\n",
            "Epoch 85/250\n",
            "8/8 [==============================] - 0s 6ms/step - loss: 0.4840 - accuracy: 0.8052 - val_loss: 0.4797 - val_accuracy: 0.8050\n",
            "Epoch 86/250\n",
            "8/8 [==============================] - 0s 4ms/step - loss: 0.4828 - accuracy: 0.8055 - val_loss: 0.4784 - val_accuracy: 0.8080\n",
            "Epoch 87/250\n",
            "8/8 [==============================] - 0s 5ms/step - loss: 0.4804 - accuracy: 0.8087 - val_loss: 0.4769 - val_accuracy: 0.8100\n",
            "Epoch 88/250\n",
            "8/8 [==============================] - 0s 5ms/step - loss: 0.4792 - accuracy: 0.8098 - val_loss: 0.4751 - val_accuracy: 0.8070\n",
            "Epoch 89/250\n",
            "8/8 [==============================] - 0s 5ms/step - loss: 0.4778 - accuracy: 0.8100 - val_loss: 0.4738 - val_accuracy: 0.8110\n",
            "Epoch 90/250\n",
            "8/8 [==============================] - 0s 4ms/step - loss: 0.4761 - accuracy: 0.8110 - val_loss: 0.4719 - val_accuracy: 0.8050\n",
            "Epoch 91/250\n",
            "8/8 [==============================] - 0s 5ms/step - loss: 0.4746 - accuracy: 0.8090 - val_loss: 0.4705 - val_accuracy: 0.8080\n",
            "Epoch 92/250\n",
            "8/8 [==============================] - 0s 5ms/step - loss: 0.4730 - accuracy: 0.8130 - val_loss: 0.4692 - val_accuracy: 0.8090\n",
            "Epoch 93/250\n",
            "8/8 [==============================] - 0s 5ms/step - loss: 0.4719 - accuracy: 0.8115 - val_loss: 0.4681 - val_accuracy: 0.8080\n",
            "Epoch 94/250\n",
            "8/8 [==============================] - 0s 6ms/step - loss: 0.4697 - accuracy: 0.8148 - val_loss: 0.4663 - val_accuracy: 0.8090\n",
            "Epoch 95/250\n",
            "8/8 [==============================] - 0s 4ms/step - loss: 0.4694 - accuracy: 0.8123 - val_loss: 0.4654 - val_accuracy: 0.8080\n",
            "Epoch 96/250\n",
            "8/8 [==============================] - 0s 4ms/step - loss: 0.4672 - accuracy: 0.8180 - val_loss: 0.4637 - val_accuracy: 0.8100\n",
            "Epoch 97/250\n",
            "8/8 [==============================] - 0s 5ms/step - loss: 0.4656 - accuracy: 0.8155 - val_loss: 0.4626 - val_accuracy: 0.8090\n",
            "Epoch 98/250\n",
            "8/8 [==============================] - 0s 4ms/step - loss: 0.4643 - accuracy: 0.8183 - val_loss: 0.4609 - val_accuracy: 0.8100\n",
            "Epoch 99/250\n",
            "8/8 [==============================] - 0s 4ms/step - loss: 0.4622 - accuracy: 0.8165 - val_loss: 0.4596 - val_accuracy: 0.8090\n",
            "Epoch 100/250\n",
            "8/8 [==============================] - 0s 4ms/step - loss: 0.4618 - accuracy: 0.8170 - val_loss: 0.4584 - val_accuracy: 0.8090\n",
            "Epoch 101/250\n",
            "8/8 [==============================] - 0s 4ms/step - loss: 0.4600 - accuracy: 0.8183 - val_loss: 0.4574 - val_accuracy: 0.8080\n",
            "Epoch 102/250\n",
            "8/8 [==============================] - 0s 4ms/step - loss: 0.4596 - accuracy: 0.8175 - val_loss: 0.4563 - val_accuracy: 0.8120\n",
            "Epoch 103/250\n",
            "8/8 [==============================] - 0s 4ms/step - loss: 0.4576 - accuracy: 0.8198 - val_loss: 0.4546 - val_accuracy: 0.8080\n",
            "Epoch 104/250\n",
            "8/8 [==============================] - 0s 5ms/step - loss: 0.4563 - accuracy: 0.8192 - val_loss: 0.4534 - val_accuracy: 0.8080\n",
            "Epoch 105/250\n",
            "8/8 [==============================] - 0s 4ms/step - loss: 0.4546 - accuracy: 0.8180 - val_loss: 0.4523 - val_accuracy: 0.8110\n",
            "Epoch 106/250\n",
            "8/8 [==============================] - 0s 4ms/step - loss: 0.4531 - accuracy: 0.8213 - val_loss: 0.4508 - val_accuracy: 0.8080\n",
            "Epoch 107/250\n",
            "8/8 [==============================] - 0s 4ms/step - loss: 0.4525 - accuracy: 0.8188 - val_loss: 0.4497 - val_accuracy: 0.8100\n",
            "Epoch 108/250\n",
            "8/8 [==============================] - 0s 4ms/step - loss: 0.4511 - accuracy: 0.8207 - val_loss: 0.4485 - val_accuracy: 0.8090\n",
            "Epoch 109/250\n",
            "8/8 [==============================] - 0s 5ms/step - loss: 0.4496 - accuracy: 0.8220 - val_loss: 0.4474 - val_accuracy: 0.8100\n",
            "Epoch 110/250\n",
            "8/8 [==============================] - 0s 4ms/step - loss: 0.4480 - accuracy: 0.8202 - val_loss: 0.4464 - val_accuracy: 0.8110\n",
            "Epoch 111/250\n",
            "8/8 [==============================] - 0s 5ms/step - loss: 0.4471 - accuracy: 0.8217 - val_loss: 0.4452 - val_accuracy: 0.8120\n",
            "Epoch 112/250\n",
            "8/8 [==============================] - 0s 5ms/step - loss: 0.4461 - accuracy: 0.8217 - val_loss: 0.4440 - val_accuracy: 0.8120\n",
            "Epoch 113/250\n",
            "8/8 [==============================] - 0s 5ms/step - loss: 0.4451 - accuracy: 0.8230 - val_loss: 0.4429 - val_accuracy: 0.8120\n",
            "Epoch 114/250\n",
            "8/8 [==============================] - 0s 5ms/step - loss: 0.4441 - accuracy: 0.8210 - val_loss: 0.4420 - val_accuracy: 0.8130\n",
            "Epoch 115/250\n",
            "8/8 [==============================] - 0s 4ms/step - loss: 0.4427 - accuracy: 0.8238 - val_loss: 0.4408 - val_accuracy: 0.8110\n",
            "Epoch 116/250\n",
            "8/8 [==============================] - 0s 4ms/step - loss: 0.4421 - accuracy: 0.8213 - val_loss: 0.4400 - val_accuracy: 0.8170\n",
            "Epoch 117/250\n",
            "8/8 [==============================] - 0s 4ms/step - loss: 0.4401 - accuracy: 0.8263 - val_loss: 0.4385 - val_accuracy: 0.8110\n",
            "Epoch 118/250\n",
            "8/8 [==============================] - 0s 4ms/step - loss: 0.4392 - accuracy: 0.8238 - val_loss: 0.4375 - val_accuracy: 0.8120\n",
            "Epoch 119/250\n",
            "8/8 [==============================] - 0s 5ms/step - loss: 0.4383 - accuracy: 0.8230 - val_loss: 0.4367 - val_accuracy: 0.8160\n",
            "Epoch 120/250\n",
            "8/8 [==============================] - 0s 5ms/step - loss: 0.4372 - accuracy: 0.8240 - val_loss: 0.4356 - val_accuracy: 0.8170\n",
            "Epoch 121/250\n",
            "8/8 [==============================] - 0s 4ms/step - loss: 0.4362 - accuracy: 0.8245 - val_loss: 0.4347 - val_accuracy: 0.8160\n",
            "Epoch 122/250\n",
            "8/8 [==============================] - 0s 5ms/step - loss: 0.4345 - accuracy: 0.8253 - val_loss: 0.4335 - val_accuracy: 0.8160\n",
            "Epoch 123/250\n",
            "8/8 [==============================] - 0s 4ms/step - loss: 0.4344 - accuracy: 0.8255 - val_loss: 0.4327 - val_accuracy: 0.8170\n",
            "Epoch 124/250\n",
            "8/8 [==============================] - 0s 4ms/step - loss: 0.4327 - accuracy: 0.8265 - val_loss: 0.4315 - val_accuracy: 0.8150\n",
            "Epoch 125/250\n",
            "8/8 [==============================] - 0s 4ms/step - loss: 0.4320 - accuracy: 0.8275 - val_loss: 0.4306 - val_accuracy: 0.8160\n",
            "Epoch 126/250\n",
            "8/8 [==============================] - 0s 4ms/step - loss: 0.4304 - accuracy: 0.8267 - val_loss: 0.4296 - val_accuracy: 0.8160\n",
            "Epoch 127/250\n",
            "8/8 [==============================] - 0s 4ms/step - loss: 0.4292 - accuracy: 0.8260 - val_loss: 0.4286 - val_accuracy: 0.8140\n",
            "Epoch 128/250\n",
            "8/8 [==============================] - 0s 4ms/step - loss: 0.4289 - accuracy: 0.8235 - val_loss: 0.4280 - val_accuracy: 0.8200\n",
            "Epoch 129/250\n",
            "8/8 [==============================] - 0s 4ms/step - loss: 0.4279 - accuracy: 0.8270 - val_loss: 0.4271 - val_accuracy: 0.8200\n",
            "Epoch 130/250\n",
            "8/8 [==============================] - 0s 5ms/step - loss: 0.4272 - accuracy: 0.8275 - val_loss: 0.4263 - val_accuracy: 0.8210\n",
            "Epoch 131/250\n",
            "8/8 [==============================] - 0s 5ms/step - loss: 0.4266 - accuracy: 0.8273 - val_loss: 0.4253 - val_accuracy: 0.8200\n",
            "Epoch 132/250\n",
            "8/8 [==============================] - 0s 5ms/step - loss: 0.4249 - accuracy: 0.8282 - val_loss: 0.4245 - val_accuracy: 0.8210\n",
            "Epoch 133/250\n",
            "8/8 [==============================] - 0s 5ms/step - loss: 0.4242 - accuracy: 0.8280 - val_loss: 0.4233 - val_accuracy: 0.8180\n",
            "Epoch 134/250\n",
            "8/8 [==============================] - 0s 5ms/step - loss: 0.4233 - accuracy: 0.8282 - val_loss: 0.4226 - val_accuracy: 0.8190\n",
            "Epoch 135/250\n",
            "8/8 [==============================] - 0s 5ms/step - loss: 0.4228 - accuracy: 0.8280 - val_loss: 0.4219 - val_accuracy: 0.8220\n",
            "Epoch 136/250\n",
            "8/8 [==============================] - 0s 5ms/step - loss: 0.4217 - accuracy: 0.8285 - val_loss: 0.4213 - val_accuracy: 0.8250\n",
            "Epoch 137/250\n",
            "8/8 [==============================] - 0s 5ms/step - loss: 0.4205 - accuracy: 0.8305 - val_loss: 0.4201 - val_accuracy: 0.8180\n",
            "Epoch 138/250\n",
            "8/8 [==============================] - 0s 5ms/step - loss: 0.4192 - accuracy: 0.8288 - val_loss: 0.4193 - val_accuracy: 0.8200\n",
            "Epoch 139/250\n",
            "8/8 [==============================] - 0s 5ms/step - loss: 0.4195 - accuracy: 0.8300 - val_loss: 0.4184 - val_accuracy: 0.8200\n",
            "Epoch 140/250\n",
            "8/8 [==============================] - 0s 4ms/step - loss: 0.4187 - accuracy: 0.8285 - val_loss: 0.4179 - val_accuracy: 0.8250\n",
            "Epoch 141/250\n",
            "8/8 [==============================] - 0s 5ms/step - loss: 0.4172 - accuracy: 0.8290 - val_loss: 0.4171 - val_accuracy: 0.8260\n",
            "Epoch 142/250\n",
            "8/8 [==============================] - 0s 5ms/step - loss: 0.4161 - accuracy: 0.8298 - val_loss: 0.4164 - val_accuracy: 0.8260\n",
            "Epoch 143/250\n",
            "8/8 [==============================] - 0s 4ms/step - loss: 0.4158 - accuracy: 0.8288 - val_loss: 0.4159 - val_accuracy: 0.8270\n",
            "Epoch 144/250\n",
            "8/8 [==============================] - 0s 5ms/step - loss: 0.4155 - accuracy: 0.8305 - val_loss: 0.4148 - val_accuracy: 0.8240\n",
            "Epoch 145/250\n",
            "8/8 [==============================] - 0s 5ms/step - loss: 0.4142 - accuracy: 0.8298 - val_loss: 0.4142 - val_accuracy: 0.8260\n",
            "Epoch 146/250\n",
            "8/8 [==============================] - 0s 5ms/step - loss: 0.4131 - accuracy: 0.8305 - val_loss: 0.4134 - val_accuracy: 0.8260\n",
            "Epoch 147/250\n",
            "8/8 [==============================] - 0s 5ms/step - loss: 0.4127 - accuracy: 0.8305 - val_loss: 0.4127 - val_accuracy: 0.8260\n",
            "Epoch 148/250\n",
            "8/8 [==============================] - 0s 5ms/step - loss: 0.4115 - accuracy: 0.8310 - val_loss: 0.4119 - val_accuracy: 0.8240\n",
            "Epoch 149/250\n",
            "8/8 [==============================] - 0s 4ms/step - loss: 0.4117 - accuracy: 0.8300 - val_loss: 0.4114 - val_accuracy: 0.8280\n",
            "Epoch 150/250\n",
            "8/8 [==============================] - 0s 4ms/step - loss: 0.4103 - accuracy: 0.8305 - val_loss: 0.4108 - val_accuracy: 0.8270\n",
            "Epoch 151/250\n",
            "8/8 [==============================] - 0s 5ms/step - loss: 0.4100 - accuracy: 0.8300 - val_loss: 0.4100 - val_accuracy: 0.8280\n",
            "Epoch 152/250\n",
            "8/8 [==============================] - 0s 4ms/step - loss: 0.4089 - accuracy: 0.8307 - val_loss: 0.4094 - val_accuracy: 0.8270\n",
            "Epoch 153/250\n",
            "8/8 [==============================] - 0s 4ms/step - loss: 0.4081 - accuracy: 0.8310 - val_loss: 0.4086 - val_accuracy: 0.8280\n",
            "Epoch 154/250\n",
            "8/8 [==============================] - 0s 4ms/step - loss: 0.4071 - accuracy: 0.8317 - val_loss: 0.4079 - val_accuracy: 0.8260\n",
            "Epoch 155/250\n",
            "8/8 [==============================] - 0s 4ms/step - loss: 0.4079 - accuracy: 0.8330 - val_loss: 0.4073 - val_accuracy: 0.8270\n",
            "Epoch 156/250\n",
            "8/8 [==============================] - 0s 4ms/step - loss: 0.4064 - accuracy: 0.8303 - val_loss: 0.4067 - val_accuracy: 0.8280\n",
            "Epoch 157/250\n",
            "8/8 [==============================] - 0s 4ms/step - loss: 0.4056 - accuracy: 0.8322 - val_loss: 0.4061 - val_accuracy: 0.8270\n",
            "Epoch 158/250\n",
            "8/8 [==============================] - 0s 4ms/step - loss: 0.4046 - accuracy: 0.8313 - val_loss: 0.4055 - val_accuracy: 0.8280\n",
            "Epoch 159/250\n",
            "8/8 [==============================] - 0s 5ms/step - loss: 0.4046 - accuracy: 0.8320 - val_loss: 0.4049 - val_accuracy: 0.8280\n",
            "Epoch 160/250\n",
            "8/8 [==============================] - 0s 5ms/step - loss: 0.4034 - accuracy: 0.8310 - val_loss: 0.4044 - val_accuracy: 0.8270\n",
            "Epoch 161/250\n",
            "8/8 [==============================] - 0s 4ms/step - loss: 0.4029 - accuracy: 0.8305 - val_loss: 0.4042 - val_accuracy: 0.8260\n",
            "Epoch 162/250\n",
            "8/8 [==============================] - 0s 5ms/step - loss: 0.4020 - accuracy: 0.8338 - val_loss: 0.4033 - val_accuracy: 0.8270\n",
            "Epoch 163/250\n",
            "8/8 [==============================] - 0s 4ms/step - loss: 0.4019 - accuracy: 0.8315 - val_loss: 0.4028 - val_accuracy: 0.8270\n",
            "Epoch 164/250\n",
            "8/8 [==============================] - 0s 4ms/step - loss: 0.4008 - accuracy: 0.8335 - val_loss: 0.4022 - val_accuracy: 0.8270\n",
            "Epoch 165/250\n",
            "8/8 [==============================] - 0s 4ms/step - loss: 0.4008 - accuracy: 0.8320 - val_loss: 0.4018 - val_accuracy: 0.8280\n",
            "Epoch 166/250\n",
            "8/8 [==============================] - 0s 4ms/step - loss: 0.4006 - accuracy: 0.8338 - val_loss: 0.4013 - val_accuracy: 0.8270\n",
            "Epoch 167/250\n",
            "8/8 [==============================] - 0s 4ms/step - loss: 0.4007 - accuracy: 0.8338 - val_loss: 0.4008 - val_accuracy: 0.8270\n",
            "Epoch 168/250\n",
            "8/8 [==============================] - 0s 4ms/step - loss: 0.3992 - accuracy: 0.8330 - val_loss: 0.4002 - val_accuracy: 0.8280\n",
            "Epoch 169/250\n",
            "8/8 [==============================] - 0s 4ms/step - loss: 0.3989 - accuracy: 0.8338 - val_loss: 0.3997 - val_accuracy: 0.8270\n",
            "Epoch 170/250\n",
            "8/8 [==============================] - 0s 5ms/step - loss: 0.3983 - accuracy: 0.8328 - val_loss: 0.3993 - val_accuracy: 0.8270\n",
            "Epoch 171/250\n",
            "8/8 [==============================] - 0s 4ms/step - loss: 0.3968 - accuracy: 0.8340 - val_loss: 0.3986 - val_accuracy: 0.8270\n",
            "Epoch 172/250\n",
            "8/8 [==============================] - 0s 4ms/step - loss: 0.3970 - accuracy: 0.8328 - val_loss: 0.3982 - val_accuracy: 0.8270\n",
            "Epoch 173/250\n",
            "8/8 [==============================] - 0s 5ms/step - loss: 0.3962 - accuracy: 0.8320 - val_loss: 0.3980 - val_accuracy: 0.8220\n",
            "Epoch 174/250\n",
            "8/8 [==============================] - 0s 5ms/step - loss: 0.3956 - accuracy: 0.8340 - val_loss: 0.3975 - val_accuracy: 0.8220\n",
            "Epoch 175/250\n",
            "8/8 [==============================] - 0s 5ms/step - loss: 0.3958 - accuracy: 0.8332 - val_loss: 0.3970 - val_accuracy: 0.8260\n",
            "Epoch 176/250\n",
            "8/8 [==============================] - 0s 4ms/step - loss: 0.3955 - accuracy: 0.8325 - val_loss: 0.3965 - val_accuracy: 0.8270\n",
            "Epoch 177/250\n",
            "8/8 [==============================] - 0s 4ms/step - loss: 0.3947 - accuracy: 0.8335 - val_loss: 0.3962 - val_accuracy: 0.8220\n",
            "Epoch 178/250\n",
            "8/8 [==============================] - 0s 4ms/step - loss: 0.3943 - accuracy: 0.8330 - val_loss: 0.3957 - val_accuracy: 0.8220\n",
            "Epoch 179/250\n",
            "8/8 [==============================] - 0s 5ms/step - loss: 0.3935 - accuracy: 0.8340 - val_loss: 0.3952 - val_accuracy: 0.8260\n",
            "Epoch 180/250\n",
            "8/8 [==============================] - 0s 5ms/step - loss: 0.3935 - accuracy: 0.8335 - val_loss: 0.3948 - val_accuracy: 0.8240\n",
            "Epoch 181/250\n",
            "8/8 [==============================] - 0s 4ms/step - loss: 0.3929 - accuracy: 0.8328 - val_loss: 0.3944 - val_accuracy: 0.8240\n",
            "Epoch 182/250\n",
            "8/8 [==============================] - 0s 4ms/step - loss: 0.3923 - accuracy: 0.8325 - val_loss: 0.3939 - val_accuracy: 0.8270\n",
            "Epoch 183/250\n",
            "8/8 [==============================] - 0s 4ms/step - loss: 0.3923 - accuracy: 0.8330 - val_loss: 0.3939 - val_accuracy: 0.8220\n",
            "Epoch 184/250\n",
            "8/8 [==============================] - 0s 4ms/step - loss: 0.3912 - accuracy: 0.8330 - val_loss: 0.3934 - val_accuracy: 0.8230\n",
            "Epoch 185/250\n",
            "8/8 [==============================] - 0s 4ms/step - loss: 0.3919 - accuracy: 0.8332 - val_loss: 0.3930 - val_accuracy: 0.8240\n",
            "Epoch 186/250\n",
            "8/8 [==============================] - 0s 4ms/step - loss: 0.3912 - accuracy: 0.8328 - val_loss: 0.3926 - val_accuracy: 0.8240\n",
            "Epoch 187/250\n",
            "8/8 [==============================] - 0s 4ms/step - loss: 0.3907 - accuracy: 0.8335 - val_loss: 0.3922 - val_accuracy: 0.8240\n",
            "Epoch 188/250\n",
            "8/8 [==============================] - 0s 5ms/step - loss: 0.3906 - accuracy: 0.8335 - val_loss: 0.3919 - val_accuracy: 0.8240\n",
            "Epoch 189/250\n",
            "8/8 [==============================] - 0s 4ms/step - loss: 0.3892 - accuracy: 0.8325 - val_loss: 0.3915 - val_accuracy: 0.8240\n",
            "Epoch 190/250\n",
            "8/8 [==============================] - 0s 4ms/step - loss: 0.3892 - accuracy: 0.8338 - val_loss: 0.3913 - val_accuracy: 0.8210\n",
            "Epoch 191/250\n",
            "8/8 [==============================] - 0s 5ms/step - loss: 0.3893 - accuracy: 0.8342 - val_loss: 0.3908 - val_accuracy: 0.8240\n",
            "Epoch 192/250\n",
            "8/8 [==============================] - 0s 4ms/step - loss: 0.3883 - accuracy: 0.8338 - val_loss: 0.3904 - val_accuracy: 0.8250\n",
            "Epoch 193/250\n",
            "8/8 [==============================] - 0s 4ms/step - loss: 0.3887 - accuracy: 0.8345 - val_loss: 0.3902 - val_accuracy: 0.8240\n",
            "Epoch 194/250\n",
            "8/8 [==============================] - 0s 4ms/step - loss: 0.3875 - accuracy: 0.8340 - val_loss: 0.3898 - val_accuracy: 0.8240\n",
            "Epoch 195/250\n",
            "8/8 [==============================] - 0s 4ms/step - loss: 0.3870 - accuracy: 0.8332 - val_loss: 0.3896 - val_accuracy: 0.8220\n",
            "Epoch 196/250\n",
            "8/8 [==============================] - 0s 4ms/step - loss: 0.3871 - accuracy: 0.8345 - val_loss: 0.3891 - val_accuracy: 0.8240\n",
            "Epoch 197/250\n",
            "8/8 [==============================] - 0s 4ms/step - loss: 0.3866 - accuracy: 0.8340 - val_loss: 0.3890 - val_accuracy: 0.8240\n",
            "Epoch 198/250\n",
            "8/8 [==============================] - 0s 5ms/step - loss: 0.3863 - accuracy: 0.8332 - val_loss: 0.3886 - val_accuracy: 0.8230\n",
            "Epoch 199/250\n",
            "8/8 [==============================] - 0s 4ms/step - loss: 0.3875 - accuracy: 0.8350 - val_loss: 0.3883 - val_accuracy: 0.8240\n",
            "Epoch 200/250\n",
            "8/8 [==============================] - 0s 4ms/step - loss: 0.3863 - accuracy: 0.8340 - val_loss: 0.3882 - val_accuracy: 0.8250\n",
            "Epoch 201/250\n",
            "8/8 [==============================] - 0s 4ms/step - loss: 0.3853 - accuracy: 0.8353 - val_loss: 0.3878 - val_accuracy: 0.8240\n",
            "Epoch 202/250\n",
            "8/8 [==============================] - 0s 5ms/step - loss: 0.3849 - accuracy: 0.8342 - val_loss: 0.3876 - val_accuracy: 0.8250\n",
            "Epoch 203/250\n",
            "8/8 [==============================] - 0s 5ms/step - loss: 0.3850 - accuracy: 0.8338 - val_loss: 0.3873 - val_accuracy: 0.8250\n",
            "Epoch 204/250\n",
            "8/8 [==============================] - 0s 4ms/step - loss: 0.3844 - accuracy: 0.8342 - val_loss: 0.3871 - val_accuracy: 0.8250\n",
            "Epoch 205/250\n",
            "8/8 [==============================] - 0s 4ms/step - loss: 0.3849 - accuracy: 0.8345 - val_loss: 0.3868 - val_accuracy: 0.8250\n",
            "Epoch 206/250\n",
            "8/8 [==============================] - 0s 4ms/step - loss: 0.3840 - accuracy: 0.8335 - val_loss: 0.3866 - val_accuracy: 0.8250\n",
            "Epoch 207/250\n",
            "8/8 [==============================] - 0s 5ms/step - loss: 0.3843 - accuracy: 0.8347 - val_loss: 0.3863 - val_accuracy: 0.8260\n",
            "Epoch 208/250\n",
            "8/8 [==============================] - 0s 5ms/step - loss: 0.3834 - accuracy: 0.8342 - val_loss: 0.3860 - val_accuracy: 0.8260\n",
            "Epoch 209/250\n",
            "8/8 [==============================] - 0s 5ms/step - loss: 0.3838 - accuracy: 0.8342 - val_loss: 0.3858 - val_accuracy: 0.8250\n",
            "Epoch 210/250\n",
            "8/8 [==============================] - 0s 4ms/step - loss: 0.3833 - accuracy: 0.8353 - val_loss: 0.3856 - val_accuracy: 0.8250\n",
            "Epoch 211/250\n",
            "8/8 [==============================] - 0s 4ms/step - loss: 0.3834 - accuracy: 0.8345 - val_loss: 0.3854 - val_accuracy: 0.8270\n",
            "Epoch 212/250\n",
            "8/8 [==============================] - 0s 4ms/step - loss: 0.3827 - accuracy: 0.8347 - val_loss: 0.3851 - val_accuracy: 0.8260\n",
            "Epoch 213/250\n",
            "8/8 [==============================] - 0s 4ms/step - loss: 0.3818 - accuracy: 0.8347 - val_loss: 0.3848 - val_accuracy: 0.8260\n",
            "Epoch 214/250\n",
            "8/8 [==============================] - 0s 4ms/step - loss: 0.3825 - accuracy: 0.8353 - val_loss: 0.3846 - val_accuracy: 0.8260\n",
            "Epoch 215/250\n",
            "8/8 [==============================] - 0s 4ms/step - loss: 0.3819 - accuracy: 0.8335 - val_loss: 0.3843 - val_accuracy: 0.8260\n",
            "Epoch 216/250\n",
            "8/8 [==============================] - 0s 4ms/step - loss: 0.3818 - accuracy: 0.8340 - val_loss: 0.3842 - val_accuracy: 0.8260\n",
            "Epoch 217/250\n",
            "8/8 [==============================] - 0s 5ms/step - loss: 0.3811 - accuracy: 0.8347 - val_loss: 0.3839 - val_accuracy: 0.8260\n",
            "Epoch 218/250\n",
            "8/8 [==============================] - 0s 4ms/step - loss: 0.3811 - accuracy: 0.8350 - val_loss: 0.3838 - val_accuracy: 0.8260\n",
            "Epoch 219/250\n",
            "8/8 [==============================] - 0s 4ms/step - loss: 0.3816 - accuracy: 0.8350 - val_loss: 0.3836 - val_accuracy: 0.8260\n",
            "Epoch 220/250\n",
            "8/8 [==============================] - 0s 4ms/step - loss: 0.3815 - accuracy: 0.8347 - val_loss: 0.3837 - val_accuracy: 0.8270\n",
            "Epoch 221/250\n",
            "8/8 [==============================] - 0s 4ms/step - loss: 0.3807 - accuracy: 0.8345 - val_loss: 0.3832 - val_accuracy: 0.8260\n",
            "Epoch 222/250\n",
            "8/8 [==============================] - 0s 4ms/step - loss: 0.3804 - accuracy: 0.8347 - val_loss: 0.3831 - val_accuracy: 0.8290\n",
            "Epoch 223/250\n",
            "8/8 [==============================] - 0s 4ms/step - loss: 0.3807 - accuracy: 0.8347 - val_loss: 0.3830 - val_accuracy: 0.8290\n",
            "Epoch 224/250\n",
            "8/8 [==============================] - 0s 4ms/step - loss: 0.3806 - accuracy: 0.8357 - val_loss: 0.3829 - val_accuracy: 0.8280\n",
            "Epoch 225/250\n",
            "8/8 [==============================] - 0s 4ms/step - loss: 0.3802 - accuracy: 0.8363 - val_loss: 0.3824 - val_accuracy: 0.8280\n",
            "Epoch 226/250\n",
            "8/8 [==============================] - 0s 6ms/step - loss: 0.3794 - accuracy: 0.8355 - val_loss: 0.3823 - val_accuracy: 0.8270\n",
            "Epoch 227/250\n",
            "8/8 [==============================] - 0s 5ms/step - loss: 0.3801 - accuracy: 0.8360 - val_loss: 0.3821 - val_accuracy: 0.8270\n",
            "Epoch 228/250\n",
            "8/8 [==============================] - 0s 4ms/step - loss: 0.3789 - accuracy: 0.8350 - val_loss: 0.3820 - val_accuracy: 0.8290\n",
            "Epoch 229/250\n",
            "8/8 [==============================] - 0s 5ms/step - loss: 0.3793 - accuracy: 0.8355 - val_loss: 0.3817 - val_accuracy: 0.8280\n",
            "Epoch 230/250\n",
            "8/8 [==============================] - 0s 4ms/step - loss: 0.3784 - accuracy: 0.8357 - val_loss: 0.3816 - val_accuracy: 0.8290\n",
            "Epoch 231/250\n",
            "8/8 [==============================] - 0s 5ms/step - loss: 0.3785 - accuracy: 0.8365 - val_loss: 0.3814 - val_accuracy: 0.8280\n",
            "Epoch 232/250\n",
            "8/8 [==============================] - 0s 5ms/step - loss: 0.3788 - accuracy: 0.8353 - val_loss: 0.3814 - val_accuracy: 0.8290\n",
            "Epoch 233/250\n",
            "8/8 [==============================] - 0s 4ms/step - loss: 0.3787 - accuracy: 0.8353 - val_loss: 0.3812 - val_accuracy: 0.8290\n",
            "Epoch 234/250\n",
            "8/8 [==============================] - 0s 5ms/step - loss: 0.3785 - accuracy: 0.8357 - val_loss: 0.3810 - val_accuracy: 0.8270\n",
            "Epoch 235/250\n",
            "8/8 [==============================] - 0s 5ms/step - loss: 0.3783 - accuracy: 0.8363 - val_loss: 0.3809 - val_accuracy: 0.8290\n",
            "Epoch 236/250\n",
            "8/8 [==============================] - 0s 5ms/step - loss: 0.3776 - accuracy: 0.8360 - val_loss: 0.3808 - val_accuracy: 0.8270\n",
            "Epoch 237/250\n",
            "8/8 [==============================] - 0s 4ms/step - loss: 0.3783 - accuracy: 0.8350 - val_loss: 0.3808 - val_accuracy: 0.8300\n",
            "Epoch 238/250\n",
            "8/8 [==============================] - 0s 5ms/step - loss: 0.3772 - accuracy: 0.8357 - val_loss: 0.3807 - val_accuracy: 0.8290\n",
            "Epoch 239/250\n",
            "8/8 [==============================] - 0s 5ms/step - loss: 0.3780 - accuracy: 0.8357 - val_loss: 0.3805 - val_accuracy: 0.8300\n",
            "Epoch 240/250\n",
            "8/8 [==============================] - 0s 4ms/step - loss: 0.3775 - accuracy: 0.8350 - val_loss: 0.3803 - val_accuracy: 0.8290\n",
            "Epoch 241/250\n",
            "8/8 [==============================] - 0s 5ms/step - loss: 0.3765 - accuracy: 0.8353 - val_loss: 0.3801 - val_accuracy: 0.8280\n",
            "Epoch 242/250\n",
            "8/8 [==============================] - 0s 5ms/step - loss: 0.3783 - accuracy: 0.8355 - val_loss: 0.3801 - val_accuracy: 0.8300\n",
            "Epoch 243/250\n",
            "8/8 [==============================] - 0s 5ms/step - loss: 0.3781 - accuracy: 0.8347 - val_loss: 0.3800 - val_accuracy: 0.8300\n",
            "Epoch 244/250\n",
            "8/8 [==============================] - 0s 5ms/step - loss: 0.3770 - accuracy: 0.8365 - val_loss: 0.3798 - val_accuracy: 0.8300\n",
            "Epoch 245/250\n",
            "8/8 [==============================] - 0s 5ms/step - loss: 0.3771 - accuracy: 0.8363 - val_loss: 0.3799 - val_accuracy: 0.8280\n",
            "Epoch 246/250\n",
            "8/8 [==============================] - 0s 4ms/step - loss: 0.3771 - accuracy: 0.8363 - val_loss: 0.3796 - val_accuracy: 0.8280\n",
            "Epoch 247/250\n",
            "8/8 [==============================] - 0s 5ms/step - loss: 0.3768 - accuracy: 0.8353 - val_loss: 0.3794 - val_accuracy: 0.8280\n",
            "Epoch 248/250\n",
            "8/8 [==============================] - 0s 5ms/step - loss: 0.3766 - accuracy: 0.8360 - val_loss: 0.3794 - val_accuracy: 0.8280\n",
            "Epoch 249/250\n",
            "8/8 [==============================] - 0s 5ms/step - loss: 0.3768 - accuracy: 0.8353 - val_loss: 0.3794 - val_accuracy: 0.8290\n",
            "Epoch 250/250\n",
            "8/8 [==============================] - 0s 5ms/step - loss: 0.3768 - accuracy: 0.8360 - val_loss: 0.3794 - val_accuracy: 0.8290\n"
          ],
          "name": "stdout"
        }
      ]
    },
    {
      "cell_type": "markdown",
      "metadata": {
        "id": "GeNXsGSYQLAQ",
        "colab_type": "text"
      },
      "source": [
        "# Finding separting line.\n",
        "Dot product summation from true line:\n",
        "```\n",
        "w * x + b\n",
        "```\n",
        "can be rewrite as :\n",
        "\n",
        "\n",
        "```\n",
        "w1 * x1 + w2 * x2 + b\n",
        "```\n",
        "for 2 dimensions inputs and weights vectors. Now We can rewrite x1 as x and x2 as y so\n",
        "\n",
        "\n",
        "```\n",
        "w1x + w2y + b\n",
        "```\n",
        "Now we can solve for x-intercept and y-intercept:\n",
        "\n",
        "\n",
        "```\n",
        "x = -(b - w2y) / w1\n",
        "if y == 0\n",
        "x = -(b - w2 * 0) / w1\n",
        "x = -b / w1\n",
        "\n",
        "y = -(b - w1x) / w2\n",
        "if x == 0\n",
        "y = -(b - w1 * 0) / w2\n",
        "y = -b / w2\n",
        "```\n",
        "Now find slope m using those 2 points, then form the slope-intercept form:\n",
        "\n",
        "\n",
        "```\n",
        "point_1 = (0, -b / w2) \n",
        "point_2 = (-b / w1, 0)\n",
        "m = (y2 - y1) / (x2 - x1)\n",
        "m = (0 - -(b / w2)) / (-(b / w1) - 0)\n",
        "m = -(b / w2) / (b / w1)\n",
        "\n",
        "slope = -(b / w2) / (b / w1)\n",
        "y-intercept = -b / w2\n",
        "y = (-(b / w2) / (b / w1))x + (-b / w2)\n",
        "```\n",
        "\n",
        "\n",
        "\n"
      ]
    },
    {
      "cell_type": "code",
      "metadata": {
        "id": "5N6KM4kXGkV_",
        "colab_type": "code",
        "colab": {
          "base_uri": "https://localhost:8080/",
          "height": 265
        },
        "outputId": "fefb416a-d3d0-46c1-d809-0c2b9093cf4f"
      },
      "source": [
        "# True line \n",
        "xt = np.linspace(0.0, 1.0, 100)\n",
        "# y = w * x + b\n",
        "yt =  xt * 6 + 6\n",
        "#plot the true line\n",
        "plt.plot(xt, yt, color='yellow', label = \"True line\" )\n",
        "\n",
        "#Calculate the separating line from trained model\n",
        "xs = np.linspace(0.0, 1.0, 100)\n",
        "#Extracting the two weights and bias from model\n",
        "w1 = model.layers[0].get_weights()[0][0][0]\n",
        "w2 = model.layers[0].get_weights()[0][1][0]\n",
        "b = model.layers[0].get_weights()[1][0]\n",
        "#calculating y using above formula\n",
        "ys = (-(b/w2)/(b/w1))*xs + (-b/w2)\n",
        "#plot the separating line\n",
        "plt.plot(xs, ys, color='black', label = \"Predicted line\" )\n",
        "plt.legend()\n",
        "display_random_data(data, labels)"
      ],
      "execution_count": 10,
      "outputs": [
        {
          "output_type": "display_data",
          "data": {
            "image/png": "[encoded data removed]",
            "text/plain": [
              "<Figure size 432x288 with 1 Axes>"
            ]
          },
          "metadata": {
            "tags": []
          }
        }
      ]
    },
    {
      "cell_type": "markdown",
      "metadata": {
        "id": "uUn-tCo5qXko",
        "colab_type": "text"
      },
      "source": [
        "Display Heatmap"
      ]
    },
    {
      "cell_type": "code",
      "metadata": {
        "id": "cy2CD8-R8S4U",
        "colab_type": "code",
        "colab": {
          "base_uri": "https://localhost:8080/",
          "height": 281
        },
        "outputId": "7498fdd2-beb7-4363-96fa-57d4edd67c27"
      },
      "source": [
        "xx = np.linspace(0, 1, 300)\n",
        "yy = np.linspace(0, 10, 300)\n",
        "XX, YY = np.meshgrid(xx, yy)\n",
        "Z = model.predict(np.c_[XX.flatten(), YY.flatten()])\n",
        "Z = Z.reshape((300,300))\n",
        "\n",
        "contours = plt.contourf(XX, YY, Z, 60, cmap='PRGn')\n",
        "plt.colorbar()\n",
        "plt.title(\"Heatmap\")\n",
        "\n",
        "plt.show()"
      ],
      "execution_count": 11,
      "outputs": [
        {
          "output_type": "display_data",
          "data": {
            "image/png": "[encoded data removed]",
            "text/plain": [
              "<Figure size 432x288 with 2 Axes>"
            ]
          },
          "metadata": {
            "tags": []
          }
        }
      ]
    },
    {
      "cell_type": "markdown",
      "metadata": {
        "id": "Hs8ZKV0kEtor",
        "colab_type": "text"
      },
      "source": [
        "\n",
        "\n",
        "---\n",
        "\n",
        "\n",
        "\n",
        "---\n",
        "\n",
        "# Problem 3\n",
        "Implement a logistic regression model from scratch and train it"
      ]
    },
    {
      "cell_type": "code",
      "metadata": {
        "id": "tXRdegirVZhJ",
        "colab_type": "code",
        "colab": {}
      },
      "source": [
        "#sigmoid function\n",
        "def sigmoid(x):\n",
        "  return 1/ (1 + np.exp(-x))\n",
        "\n",
        "# binary cross entropy function\n",
        "def binary_cross_entropy_loss(y, a):\n",
        "  return (-y) * np.log(a) - (1-y) * np.log(1-a)\n"
      ],
      "execution_count": 0,
      "outputs": []
    },
    {
      "cell_type": "code",
      "metadata": {
        "id": "oW0Z8yoRF6sp",
        "colab_type": "code",
        "colab": {}
      },
      "source": [
        "#epochs and learning rate\n",
        "epochs = 500\n",
        "lr = 0.002\n",
        "\n",
        "np.random.seed(42)\n",
        "initial_weight = np.random.randn(2)\n",
        "weight = initial_weight\n",
        "bias = np.zeros(1)\n",
        "\n",
        "for epoch in range(epochs):\n",
        "  for x in range(split):\n",
        "    y = np.dot(weight, train_data[x]) + bias\n",
        "    a = sigmoid(y) - train_label[x]\n",
        "    gradient = a * train_data[x]\n",
        "    weight = weight - lr * gradient\n"
      ],
      "execution_count": 0,
      "outputs": []
    },
    {
      "cell_type": "markdown",
      "metadata": {
        "id": "BT21ksIIolVF",
        "colab_type": "text"
      },
      "source": [
        "Plot true line and separating line"
      ]
    },
    {
      "cell_type": "code",
      "metadata": {
        "id": "sgJ5iQBKobY_",
        "colab_type": "code",
        "colab": {
          "base_uri": "https://localhost:8080/",
          "height": 299
        },
        "outputId": "b7e69c89-d701-4543-ad29-cc98db9aecee"
      },
      "source": [
        "# True line \n",
        "xa = np.linspace(0.0, 1.0, 100)\n",
        "# y = w * x + b\n",
        "ya =  xa * 6 + 6\n",
        "#plot the true line\n",
        "plt.plot(xa, ya, color='yellow', label = \"True line\" )\n",
        "\n",
        "#Calculate the separating line from trained model\n",
        "xb = np.linspace(0.0, 1.0, 100)\n",
        "#Extracting the two weights and bias from model\n",
        "w1 = weight[0]\n",
        "w2 = weight[1]\n",
        "bb = bias[0]\n",
        "#calculating y using above formula\n",
        "yb = (-(bb/w2)/(bb/w1))*xb + (-bb/w2)\n",
        "#plot the separating line\n",
        "plt.plot(xb, yb, color='black', label = \"Predicted line\" )\n",
        "plt.legend()\n",
        "display_random_data(data, labels)"
      ],
      "execution_count": 21,
      "outputs": [
        {
          "output_type": "stream",
          "text": [
            "/usr/local/lib/python3.6/dist-packages/ipykernel_launcher.py:14: RuntimeWarning: invalid value encountered in double_scalars\n",
            "  \n"
          ],
          "name": "stderr"
        },
        {
          "output_type": "display_data",
          "data": {
            "image/png": "[encoded data removed]",
            "text/plain": [
              "<Figure size 432x288 with 1 Axes>"
            ]
          },
          "metadata": {
            "tags": []
          }
        }
      ]
    },
    {
      "cell_type": "markdown",
      "metadata": {
        "id": "rEjQVJoGsPeB",
        "colab_type": "text"
      },
      "source": [
        "Heat Map"
      ]
    },
    {
      "cell_type": "code",
      "metadata": {
        "id": "Lmy9SmfZrfHa",
        "colab_type": "code",
        "colab": {
          "base_uri": "https://localhost:8080/",
          "height": 281
        },
        "outputId": "2f3f31a0-8677-41c2-bd00-1c291c26dbad"
      },
      "source": [
        "xx = np.linspace(0, 1, 300)\n",
        "yy = np.linspace(0, 10, 300)\n",
        "XX, YY = np.meshgrid(xx, yy)\n",
        "Z = sigmoid(XX.flatten()* weight[0] + YY.flatten() * weight[1]+bias)\n",
        "Z = Z.reshape((300,300))\n",
        "\n",
        "contours = plt.contourf(XX, YY, Z, 60, cmap='PRGn')\n",
        "plt.colorbar()\n",
        "plt.title(\"Heatmap\")\n",
        "\n",
        "plt.show()"
      ],
      "execution_count": 22,
      "outputs": [
        {
          "output_type": "display_data",
          "data": {
            "image/png": "[encoded data removed]",
            "text/plain": [
              "<Figure size 432x288 with 2 Axes>"
            ]
          },
          "metadata": {
            "tags": []
          }
        }
      ]
    },
    {
      "cell_type": "markdown",
      "metadata": {
        "id": "Wuc1kLx8sSkF",
        "colab_type": "text"
      },
      "source": [
        "Sources:\n",
        "\n",
        "https://colab.research.google.com/drive/16k3mkojt3pFbZR7ycEpms2NIOJsdQUmz\n",
        "\n",
        "https://docs.scipy.org/doc/numpy-1.17.0/reference/random/generated/numpy.random.Generator.normal.html\n",
        "\n",
        "https://colab.research.google.com/github/schneider128k/machine_learning_course/blob/master/imdb_movie_reviews_classification_dense_layers.ipynb\n",
        "\n",
        "https://keras.io/layers/about-keras-layers/\n",
        "\n",
        "https://medium.com/@thomascountz/calculate-the-decision-boundary-of-a-single-perceptron-visualizing-linear-separability-c4d77099ef38\n",
        "\n",
        "https://github.com/schneider128k/machine_learning_course/blob/master/linear_regression_gradient_descent.ipynb\n",
        "\n",
        "https://github.com/schneider128k/machine_learning_course/blob/master/slides/logistic_regression.pdf"
      ]
    }
  ]
}